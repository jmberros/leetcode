{
 "cells": [
  {
   "cell_type": "markdown",
   "metadata": {},
   "source": [
    "You are given an array of logs. Each log is a space-delimited string of words, where the first word is the identifier.\n",
    "\n",
    "There are two types of logs:\n",
    "\n",
    "    Letter-logs: All words (except the identifier) consist of lowercase English letters.\n",
    "    Digit-logs: All words (except the identifier) consist of digits.\n",
    "\n",
    "Reorder these logs so that:\n",
    "\n",
    "    The letter-logs come before all digit-logs.\n",
    "    The letter-logs are sorted lexicographically by their contents. If their contents are the same, then sort them lexicographically by their identifiers.\n",
    "    The digit-logs maintain their relative ordering.\n",
    "\n",
    "Return the final order of the logs.\n",
    "\n",
    " \n",
    "\n",
    "Example 1:\n",
    "\n",
    "Input: logs = [\"dig1 8 1 5 1\",\"let1 art can\",\"dig2 3 6\",\"let2 own kit dig\",\"let3 art zero\"]\n",
    "Output: [\"let1 art can\",\"let3 art zero\",\"let2 own kit dig\",\"dig1 8 1 5 1\",\"dig2 3 6\"]\n",
    "Explanation:\n",
    "The letter-log contents are all different, so their ordering is \"art can\", \"art zero\", \"own kit dig\".\n",
    "The digit-logs have a relative order of \"dig1 8 1 5 1\", \"dig2 3 6\".\n",
    "\n",
    "Example 2:\n",
    "\n",
    "Input: logs = [\"a1 9 2 3 1\",\"g1 act car\",\"zo4 4 7\",\"ab1 off key dog\",\"a8 act zoo\"]\n",
    "Output: [\"g1 act car\",\"a8 act zoo\",\"ab1 off key dog\",\"a1 9 2 3 1\",\"zo4 4 7\"]\n",
    "\n",
    " \n",
    "\n",
    "Constraints:\n",
    "\n",
    "    1 <= logs.length <= 100\n",
    "    3 <= logs[i].length <= 100\n",
    "    All the tokens of logs[i] are separated by a single space.\n",
    "    logs[i] is guaranteed to have an identifier and at least one word after the identifier.\n",
    "\n"
   ]
  },
  {
   "cell_type": "code",
   "execution_count": 34,
   "metadata": {},
   "outputs": [],
   "source": [
    "test_cases = [\n",
    "    # Input, Expected output\n",
    "    (\n",
    "        [\"dig1 8 1 5 1\",\"let1 art can\",\"dig2 3 6\",\"let2 own kit dig\",\"let3 art zero\"],\n",
    "        [\"let1 art can\",\"let3 art zero\",\"let2 own kit dig\",\"dig1 8 1 5 1\",\"dig2 3 6\"]\n",
    "    ),\n",
    "    (\n",
    "        [\"a1 9 2 3 1\",\"g1 act car\",\"zo4 4 7\",\"ab1 off key dog\",\"a8 act zoo\"],\n",
    "        [\"g1 act car\",\"a8 act zoo\",\"ab1 off key dog\",\"a1 9 2 3 1\",\"zo4 4 7\"]\n",
    "    ),\n",
    "    (\n",
    "        [\"i9 foo bar baz\", \"i1 foo bar baz\"],\n",
    "        [\"i1 foo bar baz\", \"i9 foo bar baz\"],\n",
    "    ),\n",
    "    (\n",
    "        [\"dig1 8 1 5 1\",\"let1 art zero can\",\"dig2 3 6\",\"let2 own kit dig\",\"let3 art zero\"],\n",
    "        [\"let3 art zero\",\"let1 art zero can\",\"let2 own kit dig\",\"dig1 8 1 5 1\",\"dig2 3 6\"],\n",
    "    )\n",
    "]"
   ]
  },
  {
   "cell_type": "code",
   "execution_count": 39,
   "metadata": {},
   "outputs": [
    {
     "name": "stdout",
     "output_type": "stream",
     "text": [
      "[('art can', 'let1'), ('own kit dig', 'let2'), ('art zero', 'let3')]\n",
      "['dig1 8 1 5 1', 'let1 art can', 'dig2 3 6', 'let2 own kit dig', 'let3 art zero']\n",
      "['let1 art can', 'let3 art zero', 'let2 own kit dig', 'dig1 8 1 5 1', 'dig2 3 6']\n",
      "['let1 art can', 'let3 art zero', 'let2 own kit dig', 'dig1 8 1 5 1', 'dig2 3 6']\n",
      "--\n",
      "[('act car', 'g1'), ('off key dog', 'ab1'), ('act zoo', 'a8')]\n",
      "['a1 9 2 3 1', 'g1 act car', 'zo4 4 7', 'ab1 off key dog', 'a8 act zoo']\n",
      "['g1 act car', 'a8 act zoo', 'ab1 off key dog', 'a1 9 2 3 1', 'zo4 4 7']\n",
      "['g1 act car', 'a8 act zoo', 'ab1 off key dog', 'a1 9 2 3 1', 'zo4 4 7']\n",
      "--\n",
      "[('foo bar baz', 'i9'), ('foo bar baz', 'i1')]\n",
      "['i9 foo bar baz', 'i1 foo bar baz']\n",
      "['i1 foo bar baz', 'i9 foo bar baz']\n",
      "['i1 foo bar baz', 'i9 foo bar baz']\n",
      "--\n",
      "[('art zero can', 'let1'), ('own kit dig', 'let2'), ('art zero', 'let3')]\n",
      "['dig1 8 1 5 1', 'let1 art zero can', 'dig2 3 6', 'let2 own kit dig', 'let3 art zero']\n",
      "['let3 art zero', 'let1 art zero can', 'let2 own kit dig', 'dig1 8 1 5 1', 'dig2 3 6']\n",
      "['let3 art zero', 'let1 art zero can', 'let2 own kit dig', 'dig1 8 1 5 1', 'dig2 3 6']\n",
      "--\n"
     ]
    }
   ],
   "source": [
    "from typing import List, Tuple\n",
    "from enum import Enum\n",
    "\n",
    "\n",
    "class InvalidLogTypeException(Exception):\n",
    "    pass\n",
    "\n",
    "\n",
    "class LogCategory(Enum):\n",
    "    LETTER = 0\n",
    "    DIGIT = 1\n",
    "\n",
    "\n",
    "class Solution:\n",
    "    def reorderLogFiles(self, logs: List[str]) -> List[str]:\n",
    "        letter_sortable_logs = []\n",
    "        digit_logs = []\n",
    "\n",
    "        for log in logs:\n",
    "            sortable_log = self.make_sortable_log(log)\n",
    "            category = self.categorize_tokens(sortable_log[0].split())\n",
    "\n",
    "            if category == LogCategory.LETTER:\n",
    "                letter_sortable_logs.append(sortable_log)\n",
    "            elif category == LogCategory. DIGIT:\n",
    "                digit_logs.append(log)\n",
    "\n",
    "        print(letter_sortable_logs)\n",
    "        letter_logs = [self.sortable_log_to_regular_log(log) for log in sorted(letter_sortable_logs)]\n",
    "        return letter_logs + digit_logs\n",
    "\n",
    "    def make_sortable_log(self, log: str) -> Tuple[str]:\n",
    "        # We are guaranteed to have an identifier and at least one token\n",
    "        identifier, *tokens = log.split()\n",
    "        return (\" \".join(tokens), ) + (identifier, )\n",
    "\n",
    "    def sortable_log_to_regular_log(self, sortable_log: Tuple[str]) -> str:\n",
    "        return \" \".join((sortable_log[-1], ) + sortable_log[:-1])\n",
    "\n",
    "    def categorize_tokens(self, tokens: str) -> LogCategory:\n",
    "        if all(token.isalpha() for token in tokens):\n",
    "            return LogCategory.LETTER\n",
    "        elif all(token.isnumeric() for token in tokens):\n",
    "            return LogCategory.DIGIT\n",
    "        else:\n",
    "            raise InvalidLogTypeException\n",
    "\n",
    "\n",
    "####\n",
    "\n",
    "for test_case in test_cases:\n",
    "    in_, out_ = test_case\n",
    "    solution = Solution()\n",
    "    result = solution.reorderLogFiles(in_)\n",
    "    print(in_)\n",
    "    print(result)\n",
    "    print(out_)\n",
    "    print(\"--\")"
   ]
  },
  {
   "cell_type": "code",
   "execution_count": null,
   "metadata": {},
   "outputs": [],
   "source": []
  },
  {
   "cell_type": "code",
   "execution_count": null,
   "metadata": {},
   "outputs": [],
   "source": []
  },
  {
   "cell_type": "code",
   "execution_count": null,
   "metadata": {},
   "outputs": [],
   "source": []
  },
  {
   "cell_type": "code",
   "execution_count": null,
   "metadata": {},
   "outputs": [],
   "source": []
  },
  {
   "cell_type": "code",
   "execution_count": null,
   "metadata": {},
   "outputs": [],
   "source": []
  },
  {
   "cell_type": "code",
   "execution_count": null,
   "metadata": {},
   "outputs": [],
   "source": []
  },
  {
   "cell_type": "code",
   "execution_count": null,
   "metadata": {},
   "outputs": [],
   "source": []
  },
  {
   "cell_type": "code",
   "execution_count": null,
   "metadata": {},
   "outputs": [],
   "source": []
  },
  {
   "cell_type": "code",
   "execution_count": null,
   "metadata": {},
   "outputs": [],
   "source": []
  },
  {
   "cell_type": "code",
   "execution_count": null,
   "metadata": {},
   "outputs": [],
   "source": []
  },
  {
   "cell_type": "code",
   "execution_count": null,
   "metadata": {},
   "outputs": [],
   "source": []
  },
  {
   "cell_type": "code",
   "execution_count": null,
   "metadata": {},
   "outputs": [],
   "source": []
  },
  {
   "cell_type": "code",
   "execution_count": null,
   "metadata": {},
   "outputs": [],
   "source": []
  },
  {
   "cell_type": "code",
   "execution_count": null,
   "metadata": {},
   "outputs": [],
   "source": []
  },
  {
   "cell_type": "code",
   "execution_count": null,
   "metadata": {},
   "outputs": [],
   "source": []
  },
  {
   "cell_type": "code",
   "execution_count": null,
   "metadata": {},
   "outputs": [],
   "source": []
  },
  {
   "cell_type": "code",
   "execution_count": null,
   "metadata": {},
   "outputs": [],
   "source": []
  },
  {
   "cell_type": "code",
   "execution_count": null,
   "metadata": {},
   "outputs": [],
   "source": []
  },
  {
   "cell_type": "code",
   "execution_count": null,
   "metadata": {},
   "outputs": [],
   "source": []
  }
 ],
 "metadata": {
  "kernelspec": {
   "display_name": "py311",
   "language": "python",
   "name": "python3"
  },
  "language_info": {
   "codemirror_mode": {
    "name": "ipython",
    "version": 3
   },
   "file_extension": ".py",
   "mimetype": "text/x-python",
   "name": "python",
   "nbconvert_exporter": "python",
   "pygments_lexer": "ipython3",
   "version": "3.11.3"
  },
  "orig_nbformat": 4
 },
 "nbformat": 4,
 "nbformat_minor": 2
}

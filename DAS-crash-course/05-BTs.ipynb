{
 "cells": [
  {
   "cell_type": "markdown",
   "metadata": {},
   "source": [
    "# DFS, BFS"
   ]
  },
  {
   "cell_type": "code",
   "execution_count": 1,
   "metadata": {},
   "outputs": [
    {
     "data": {
      "image/svg+xml": [
       "\n",
       "<svg width=\"384\" height=\"240\" xmlns=\"http://www.w3.org/2000/svg\">\n",
       "<style>\n",
       "    .value {\n",
       "        font: 300 16px sans-serif;\n",
       "        text-align: center;\n",
       "        dominant-baseline: middle;\n",
       "        text-anchor: middle;\n",
       "    }\n",
       "    .node {\n",
       "        fill: lightgray;\n",
       "        stroke-width: 1;\n",
       "    }\n",
       "</style>\n",
       "<g stroke=\"#000000\">\n",
       "<line x1=\"137.0\" y1=\"144\" x2=\"161.0\" y2=\"192\"/>\n",
       "<line x1=\"281.0\" y1=\"96\" x2=\"329.0\" y2=\"144\"/>\n",
       "<line x1=\"89.0\" y1=\"96\" x2=\"137.0\" y2=\"144\"/>\n",
       "<line x1=\"89.0\" y1=\"96\" x2=\"41.0\" y2=\"144\"/>\n",
       "<line x1=\"185.0\" y1=\"48\" x2=\"281.0\" y2=\"96\"/>\n",
       "<line x1=\"185.0\" y1=\"48\" x2=\"89.0\" y2=\"96\"/>\n",
       "<circle class=\"node\" cx=\"185.0\" cy=\"48\" r=\"16\"/>\n",
       "<text class=\"value\" x=\"185.0\" y=\"48\">0</text>\n",
       "<circle class=\"node\" cx=\"89.0\" cy=\"96\" r=\"16\"/>\n",
       "<text class=\"value\" x=\"89.0\" y=\"96\">1</text>\n",
       "<circle class=\"node\" cx=\"281.0\" cy=\"96\" r=\"16\"/>\n",
       "<text class=\"value\" x=\"281.0\" y=\"96\">2</text>\n",
       "<circle class=\"node\" cx=\"41.0\" cy=\"144\" r=\"16\"/>\n",
       "<text class=\"value\" x=\"41.0\" y=\"144\">3</text>\n",
       "<circle class=\"node\" cx=\"137.0\" cy=\"144\" r=\"16\"/>\n",
       "<text class=\"value\" x=\"137.0\" y=\"144\">4</text>\n",
       "<circle class=\"node\" cx=\"329.0\" cy=\"144\" r=\"16\"/>\n",
       "<text class=\"value\" x=\"329.0\" y=\"144\">5</text>\n",
       "<circle class=\"node\" cx=\"161.0\" cy=\"192\" r=\"16\"/>\n",
       "<text class=\"value\" x=\"161.0\" y=\"192\">6</text>\n",
       "</g>\n",
       "</svg>\n"
      ],
      "text/plain": [
       "Node(0)"
      ]
     },
     "metadata": {},
     "output_type": "display_data"
    },
    {
     "name": "stdout",
     "output_type": "stream",
     "text": [
      "\n",
      "DFS preorder:\n",
      "0, 1, 3, 4, 6, 2, 5, \n",
      "DFS inorder:\n",
      "3, 1, 4, 6, 0, 2, 5, \n",
      "DFS postorder:\n",
      "3, 6, 4, 1, 5, 2, 0, \n",
      "BFS: \n",
      "0, 1, 2, 3, 4, 5, 6, "
     ]
    }
   ],
   "source": [
    "from binary_trees import dfs, bfs\n",
    "from binarytree import Node, tree\n",
    "\n",
    "\n",
    "N = Node\n",
    "# root = tree()\n",
    "root = N(0)\n",
    "root.left = N(1)\n",
    "root.left.left = N(3)\n",
    "root.left.right = N(4)\n",
    "root.left.right.right = N(6)\n",
    "root.right = N(2)\n",
    "root.right.right = N(5)\n",
    "display(root)\n",
    "\n",
    "for traversal in [\"preorder\", \"inorder\", \"postorder\"]:\n",
    "    print(f\"\\nDFS {traversal}:\")\n",
    "    for node in dfs(root, traversal):\n",
    "        print(node.val, end=\", \")\n",
    "\n",
    "print(\"\\nBFS: \")\n",
    "for node in bfs(root):\n",
    "    print(node.val, end=\", \")"
   ]
  },
  {
   "cell_type": "markdown",
   "metadata": {},
   "source": [
    "# BFS, but with a for loop inside"
   ]
  },
  {
   "cell_type": "code",
   "execution_count": 5,
   "metadata": {},
   "outputs": [
    {
     "data": {
      "image/svg+xml": [
       "\n",
       "<svg width=\"384\" height=\"240\" xmlns=\"http://www.w3.org/2000/svg\">\n",
       "<style>\n",
       "    .value {\n",
       "        font: 300 16px sans-serif;\n",
       "        text-align: center;\n",
       "        dominant-baseline: middle;\n",
       "        text-anchor: middle;\n",
       "    }\n",
       "    .node {\n",
       "        fill: lightgray;\n",
       "        stroke-width: 1;\n",
       "    }\n",
       "</style>\n",
       "<g stroke=\"#000000\">\n",
       "<line x1=\"329.0\" y1=\"144\" x2=\"353.0\" y2=\"192\"/>\n",
       "<line x1=\"233.0\" y1=\"144\" x2=\"257.0\" y2=\"192\"/>\n",
       "<line x1=\"233.0\" y1=\"144\" x2=\"209.0\" y2=\"192\"/>\n",
       "<line x1=\"41.0\" y1=\"144\" x2=\"17.0\" y2=\"192\"/>\n",
       "<line x1=\"281.0\" y1=\"96\" x2=\"329.0\" y2=\"144\"/>\n",
       "<line x1=\"281.0\" y1=\"96\" x2=\"233.0\" y2=\"144\"/>\n",
       "<line x1=\"89.0\" y1=\"96\" x2=\"41.0\" y2=\"144\"/>\n",
       "<line x1=\"185.0\" y1=\"48\" x2=\"281.0\" y2=\"96\"/>\n",
       "<line x1=\"185.0\" y1=\"48\" x2=\"89.0\" y2=\"96\"/>\n",
       "<circle class=\"node\" cx=\"185.0\" cy=\"48\" r=\"16\"/>\n",
       "<text class=\"value\" x=\"185.0\" y=\"48\">13</text>\n",
       "<circle class=\"node\" cx=\"89.0\" cy=\"96\" r=\"16\"/>\n",
       "<text class=\"value\" x=\"89.0\" y=\"96\">3</text>\n",
       "<circle class=\"node\" cx=\"281.0\" cy=\"96\" r=\"16\"/>\n",
       "<text class=\"value\" x=\"281.0\" y=\"96\">14</text>\n",
       "<circle class=\"node\" cx=\"41.0\" cy=\"144\" r=\"16\"/>\n",
       "<text class=\"value\" x=\"41.0\" y=\"144\">10</text>\n",
       "<circle class=\"node\" cx=\"233.0\" cy=\"144\" r=\"16\"/>\n",
       "<text class=\"value\" x=\"233.0\" y=\"144\">1</text>\n",
       "<circle class=\"node\" cx=\"329.0\" cy=\"144\" r=\"16\"/>\n",
       "<text class=\"value\" x=\"329.0\" y=\"144\">9</text>\n",
       "<circle class=\"node\" cx=\"17.0\" cy=\"192\" r=\"16\"/>\n",
       "<text class=\"value\" x=\"17.0\" y=\"192\">5</text>\n",
       "<circle class=\"node\" cx=\"209.0\" cy=\"192\" r=\"16\"/>\n",
       "<text class=\"value\" x=\"209.0\" y=\"192\">4</text>\n",
       "<circle class=\"node\" cx=\"257.0\" cy=\"192\" r=\"16\"/>\n",
       "<text class=\"value\" x=\"257.0\" y=\"192\">12</text>\n",
       "<circle class=\"node\" cx=\"353.0\" cy=\"192\" r=\"16\"/>\n",
       "<text class=\"value\" x=\"353.0\" y=\"192\">8</text>\n",
       "</g>\n",
       "</svg>\n"
      ],
      "text/plain": [
       "Node(13)"
      ]
     },
     "metadata": {},
     "output_type": "display_data"
    },
    {
     "name": "stdout",
     "output_type": "stream",
     "text": [
      "Nodes in level 1: 13, \n",
      "--\n",
      "Nodes in level 2: 3, 14, \n",
      "--\n",
      "Nodes in level 3: 10, 1, 9, \n",
      "--\n",
      "Nodes in level 4: 5, 4, 12, 8, \n",
      "--\n"
     ]
    }
   ],
   "source": [
    "from collections import deque\n",
    "from binarytree import tree, Node\n",
    "\n",
    "\n",
    "root = tree()\n",
    "display(root)\n",
    "\n",
    "def bfs2(root: Node):\n",
    "    q = deque([root])\n",
    "    current_level = 0\n",
    "    while q:\n",
    "        current_level += 1\n",
    "        print(f\"Nodes in level {current_level}:\", end=\" \")\n",
    "        for _ in range(len(q)):\n",
    "            node = q.popleft()\n",
    "            print(node.val, end=\", \")\n",
    "            if node.left:\n",
    "                q.append(node.left)\n",
    "            if node.right:\n",
    "                q.append(node.right)\n",
    "        print(\"\\n--\")\n",
    "\n",
    "bfs2(root)"
   ]
  },
  {
   "cell_type": "markdown",
   "metadata": {},
   "source": [
    "# BFS generator of (level, [node1, node2, ...]) tuples"
   ]
  },
  {
   "cell_type": "code",
   "execution_count": 7,
   "metadata": {},
   "outputs": [
    {
     "data": {
      "image/svg+xml": [
       "\n",
       "<svg width=\"384\" height=\"240\" xmlns=\"http://www.w3.org/2000/svg\">\n",
       "<style>\n",
       "    .value {\n",
       "        font: 300 16px sans-serif;\n",
       "        text-align: center;\n",
       "        dominant-baseline: middle;\n",
       "        text-anchor: middle;\n",
       "    }\n",
       "    .node {\n",
       "        fill: lightgray;\n",
       "        stroke-width: 1;\n",
       "    }\n",
       "</style>\n",
       "<g stroke=\"#000000\">\n",
       "<line x1=\"329.0\" y1=\"144\" x2=\"353.0\" y2=\"192\"/>\n",
       "<line x1=\"137.0\" y1=\"144\" x2=\"113.0\" y2=\"192\"/>\n",
       "<line x1=\"41.0\" y1=\"144\" x2=\"65.0\" y2=\"192\"/>\n",
       "<line x1=\"41.0\" y1=\"144\" x2=\"17.0\" y2=\"192\"/>\n",
       "<line x1=\"281.0\" y1=\"96\" x2=\"329.0\" y2=\"144\"/>\n",
       "<line x1=\"281.0\" y1=\"96\" x2=\"233.0\" y2=\"144\"/>\n",
       "<line x1=\"89.0\" y1=\"96\" x2=\"137.0\" y2=\"144\"/>\n",
       "<line x1=\"89.0\" y1=\"96\" x2=\"41.0\" y2=\"144\"/>\n",
       "<line x1=\"185.0\" y1=\"48\" x2=\"281.0\" y2=\"96\"/>\n",
       "<line x1=\"185.0\" y1=\"48\" x2=\"89.0\" y2=\"96\"/>\n",
       "<circle class=\"node\" cx=\"185.0\" cy=\"48\" r=\"16\"/>\n",
       "<text class=\"value\" x=\"185.0\" y=\"48\">13</text>\n",
       "<circle class=\"node\" cx=\"89.0\" cy=\"96\" r=\"16\"/>\n",
       "<text class=\"value\" x=\"89.0\" y=\"96\">12</text>\n",
       "<circle class=\"node\" cx=\"281.0\" cy=\"96\" r=\"16\"/>\n",
       "<text class=\"value\" x=\"281.0\" y=\"96\">14</text>\n",
       "<circle class=\"node\" cx=\"41.0\" cy=\"144\" r=\"16\"/>\n",
       "<text class=\"value\" x=\"41.0\" y=\"144\">10</text>\n",
       "<circle class=\"node\" cx=\"137.0\" cy=\"144\" r=\"16\"/>\n",
       "<text class=\"value\" x=\"137.0\" y=\"144\">6</text>\n",
       "<circle class=\"node\" cx=\"233.0\" cy=\"144\" r=\"16\"/>\n",
       "<text class=\"value\" x=\"233.0\" y=\"144\">1</text>\n",
       "<circle class=\"node\" cx=\"329.0\" cy=\"144\" r=\"16\"/>\n",
       "<text class=\"value\" x=\"329.0\" y=\"144\">8</text>\n",
       "<circle class=\"node\" cx=\"17.0\" cy=\"192\" r=\"16\"/>\n",
       "<text class=\"value\" x=\"17.0\" y=\"192\">2</text>\n",
       "<circle class=\"node\" cx=\"65.0\" cy=\"192\" r=\"16\"/>\n",
       "<text class=\"value\" x=\"65.0\" y=\"192\">5</text>\n",
       "<circle class=\"node\" cx=\"113.0\" cy=\"192\" r=\"16\"/>\n",
       "<text class=\"value\" x=\"113.0\" y=\"192\">11</text>\n",
       "<circle class=\"node\" cx=\"353.0\" cy=\"192\" r=\"16\"/>\n",
       "<text class=\"value\" x=\"353.0\" y=\"192\">3</text>\n",
       "</g>\n",
       "</svg>\n"
      ],
      "text/plain": [
       "Node(13)"
      ]
     },
     "metadata": {},
     "output_type": "display_data"
    },
    {
     "name": "stdout",
     "output_type": "stream",
     "text": [
      "level = 1, nodes = [Node(13)]\n",
      "level = 2, nodes = [Node(12), Node(14)]\n",
      "level = 3, nodes = [Node(10), Node(6), Node(1), Node(8)]\n",
      "level = 4, nodes = [Node(2), Node(5), Node(11), Node(3)]\n"
     ]
    }
   ],
   "source": [
    "from typing import Generator\n",
    "\n",
    "\n",
    "def bfs3(root: Node):\n",
    "    q = deque([root])\n",
    "    level = 1\n",
    "    while q:\n",
    "        nodes_in_this_level = []\n",
    "        for _ in range(len(q)):\n",
    "            node = q.popleft()\n",
    "            nodes_in_this_level.append(node)\n",
    "            if node.left:\n",
    "                q.append(node.left)\n",
    "            if node.right:\n",
    "                q.append(node.right)\n",
    "        yield level, nodes_in_this_level\n",
    "        level += 1 \n",
    "\n",
    "\n",
    "root = tree()\n",
    "display(root)\n",
    "\n",
    "for level, nodes in bfs3(root):\n",
    "    print(f\"{level = }, {nodes = }\")"
   ]
  },
  {
   "cell_type": "code",
   "execution_count": null,
   "metadata": {},
   "outputs": [],
   "source": []
  },
  {
   "cell_type": "code",
   "execution_count": null,
   "metadata": {},
   "outputs": [],
   "source": []
  },
  {
   "cell_type": "code",
   "execution_count": null,
   "metadata": {},
   "outputs": [],
   "source": []
  },
  {
   "cell_type": "code",
   "execution_count": null,
   "metadata": {},
   "outputs": [],
   "source": []
  },
  {
   "cell_type": "code",
   "execution_count": null,
   "metadata": {},
   "outputs": [],
   "source": []
  },
  {
   "cell_type": "code",
   "execution_count": null,
   "metadata": {},
   "outputs": [],
   "source": []
  },
  {
   "cell_type": "code",
   "execution_count": null,
   "metadata": {},
   "outputs": [],
   "source": []
  }
 ],
 "metadata": {
  "kernelspec": {
   "display_name": "base",
   "language": "python",
   "name": "python3"
  },
  "language_info": {
   "codemirror_mode": {
    "name": "ipython",
    "version": 3
   },
   "file_extension": ".py",
   "mimetype": "text/x-python",
   "name": "python",
   "nbconvert_exporter": "python",
   "pygments_lexer": "ipython3",
   "version": "3.11.3"
  },
  "orig_nbformat": 4
 },
 "nbformat": 4,
 "nbformat_minor": 2
}

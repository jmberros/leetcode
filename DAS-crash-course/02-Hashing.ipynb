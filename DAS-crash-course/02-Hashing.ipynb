{
 "cells": [
  {
   "cell_type": "code",
   "execution_count": 2,
   "metadata": {},
   "outputs": [],
   "source": [
    "from utils import run_test_cases\n",
    "from typing import List"
   ]
  },
  {
   "cell_type": "markdown",
   "metadata": {},
   "source": [
    "# 383. Ransom Note\n",
    "\n",
    "https://leetcode.com/problems/ransom-note/editorial/"
   ]
  },
  {
   "cell_type": "markdown",
   "metadata": {},
   "source": [
    "- Given two strings `ransomNote` and `magazine`,\n",
    "- return `true` if `ransomNote` can be constructed by using the letters from `magazine` and `false` otherwise.\n",
    "- Each letter in `magazine` can only be used once in `ransomNote`.\n",
    "\n",
    "```\n",
    "Example 1:\n",
    "\n",
    "Input: ransomNote = \"a\", magazine = \"b\"\n",
    "Output: false\n",
    "\n",
    "Example 2:\n",
    "\n",
    "Input: ransomNote = \"aa\", magazine = \"ab\"\n",
    "Output: false\n",
    "\n",
    "Example 3:\n",
    "\n",
    "Input: ransomNote = \"aa\", magazine = \"aab\"\n",
    "Output: true\n",
    "```\n",
    " \n",
    "\n",
    "Constraints:\n",
    "```\n",
    "    1 <= ransomNote.length, magazine.length <= 105\n",
    "    ransomNote and magazine consist of lowercase English letters.\n",
    "```\n"
   ]
  },
  {
   "cell_type": "code",
   "execution_count": 35,
   "metadata": {},
   "outputs": [],
   "source": [
    "test_cases = [\n",
    "    (\n",
    "        dict(ransomNote = \"a\", magazine = \"b\"),\n",
    "        False,\n",
    "    ),(\n",
    "        dict(ransomNote = \"aa\", magazine = \"ab\"),\n",
    "        False,\n",
    "    ),(\n",
    "        dict(ransomNote = \"aa\", magazine = \"aab\"),\n",
    "        True\n",
    "    )\n",
    "]"
   ]
  },
  {
   "cell_type": "code",
   "execution_count": 43,
   "metadata": {},
   "outputs": [
    {
     "name": "stdout",
     "output_type": "stream",
     "text": [
      "~~ Testing canConstruct ~~\n",
      "in_ = ({'ransomNote': 'a', 'magazine': 'b'},)\n",
      "out = \u001b[32mFalse\u001b[0m\n",
      "exp = False\n",
      "--\n",
      "in_ = ({'ransomNote': 'aa', 'magazine': 'ab'},)\n",
      "out = \u001b[32mFalse\u001b[0m\n",
      "exp = False\n",
      "--\n",
      "in_ = ({'ransomNote': 'aa', 'magazine': 'aab'},)\n",
      "out = \u001b[32mTrue\u001b[0m\n",
      "exp = True\n",
      "--\n"
     ]
    }
   ],
   "source": [
    "from collections import defaultdict\n",
    "\n",
    "# N = length of ransomNote, M = length of magazine, K = size of the alphabet\n",
    "# Time: O(N + M) -> O(M) since M >= N\n",
    "# Space: O(K)\n",
    "class Solution:\n",
    "    def canConstruct(self, ransomNote: str, magazine: str) -> bool:\n",
    "        \"\"\"Decides if `ransomNote` can be constructed with the letters of `magazine`.\"\"\"\n",
    "        available_letters = defaultdict(int)\n",
    "        for letter in magazine:\n",
    "            available_letters[letter] += 1\n",
    "        for letter in ransomNote:\n",
    "            if available_letters[letter] == 0:\n",
    "                return False\n",
    "            available_letters[letter] -= 1\n",
    "        return True\n",
    "            \n",
    "run_test_cases(Solution, test_cases)"
   ]
  },
  {
   "cell_type": "code",
   "execution_count": null,
   "metadata": {},
   "outputs": [],
   "source": []
  },
  {
   "cell_type": "code",
   "execution_count": null,
   "metadata": {},
   "outputs": [],
   "source": []
  },
  {
   "cell_type": "markdown",
   "metadata": {},
   "source": [
    "# 2260. Minimum Consecutive Cards to Pick Up\n",
    "\n",
    "https://leetcode.com/problems/minimum-consecutive-cards-to-pick-up/"
   ]
  },
  {
   "cell_type": "markdown",
   "metadata": {},
   "source": [
    "- You are given an integer array `cards` where `cards[i]` represents the value of the `i`th card.\n",
    "- A pair of cards are matching if the cards have the same value.\n",
    "- Return the minimum number of consecutive cards you have to pick up to have a pair of matching cards among the picked cards.\n",
    "- If it is impossible to have matching cards, return -1.\n",
    "\n",
    " \n",
    "```\n",
    "Example 1:\n",
    "\n",
    "Input: cards = [3,4,2,3,4,7]\n",
    "Output: 4\n",
    "Explanation: We can pick up the cards [3,4,2,3] which contain a matching pair of cards with value 3. Note that picking up the cards [4,2,3,4] is also optimal.\n",
    "\n",
    "Example 2:\n",
    "\n",
    "Input: cards = [1,0,5,3]\n",
    "Output: -1\n",
    "Explanation: There is no way to pick up a set of consecutive cards that contain a pair of matching cards.\n",
    "```\n",
    " \n",
    "\n",
    "Constraints:\n",
    "```\n",
    "    1 <= cards.length <= 105\n",
    "    0 <= cards[i] <= 106\n",
    "```\n"
   ]
  },
  {
   "cell_type": "code",
   "execution_count": 34,
   "metadata": {},
   "outputs": [
    {
     "name": "stdout",
     "output_type": "stream",
     "text": [
      "~~ Testing minimumCardPickup ~~\n",
      "in_ = ([3, 4, 2, 3, 4, 7],)\n",
      "out = \u001b[32m4\u001b[0m\n",
      "exp = 4\n",
      "--\n",
      "in_ = ([1, 0, 5, 3],)\n",
      "out = \u001b[32m-1\u001b[0m\n",
      "exp = -1\n",
      "--\n",
      "in_ = ([1, 2, 3, 4, 4, 3, 2, 1],)\n",
      "out = \u001b[32m2\u001b[0m\n",
      "exp = 2\n",
      "--\n",
      "in_ = ([95, 11, 8, 65, 5, 86, 30, 27, 30, 73, 15, 91, 30, 7, 37, 26, 55, 76, 60, 43, 36, 85, 47, 96, 6],)\n",
      "out = \u001b[32m3\u001b[0m\n",
      "exp = 3\n",
      "--\n"
     ]
    }
   ],
   "source": [
    "test_cases = [\n",
    "    (\n",
    "        [3,4,2,3,4,7],\n",
    "        4\n",
    "    ),(\n",
    "        [1,0,5,3],\n",
    "        -1\n",
    "    ),(\n",
    "        [1, 2, 3, 4, 4, 3, 2, 1],\n",
    "        2\n",
    "    ),(\n",
    "        [95,11,8,65,5,86,30,27,30,73,15,91,30,7,37,26,55,76,60,43,36,85,47,96,6],\n",
    "        3\n",
    "    )\n",
    "]\n",
    "\n",
    "from collections import defaultdict\n",
    "\n",
    "\n",
    "class Solution:\n",
    "    # Time: O(N)\n",
    "    # Space: O(N)\n",
    "    def minimumCardPickup(self, cards: List[int]) -> int:\n",
    "        \"\"\"Min number of consecutive cards until a pair of matching cards is found, or -1.\"\"\"\n",
    "        # indices = defaultdict(list)\n",
    "        last_index_of_obs_cards = defaultdict(int)\n",
    "        min_pair_distance = float(\"inf\")\n",
    "        pairs_seen = False\n",
    "        for i, card in enumerate(cards):\n",
    "            if card in last_index_of_obs_cards:\n",
    "                pickups = i - last_index_of_obs_cards[card] + 1\n",
    "                min_pair_distance = min(min_pair_distance, pickups)\n",
    "                pairs_seen = True\n",
    "            last_index_of_obs_cards[card] = (i)\n",
    "\n",
    "        return min_pair_distance if pairs_seen else -1\n",
    "        \n",
    "\n",
    "\n",
    "run_test_cases(Solution, test_cases)"
   ]
  },
  {
   "cell_type": "code",
   "execution_count": null,
   "metadata": {},
   "outputs": [],
   "source": []
  },
  {
   "cell_type": "code",
   "execution_count": null,
   "metadata": {},
   "outputs": [],
   "source": []
  },
  {
   "cell_type": "markdown",
   "metadata": {},
   "source": [
    "# 49. Group Anagrams\n",
    "\n",
    "https://leetcode.com/problems/group-anagrams/"
   ]
  },
  {
   "cell_type": "markdown",
   "metadata": {},
   "source": [
    "- Given an array of strings `strs`, group the anagrams together.\n",
    "- You can return the answer in any order.\n",
    "- An Anagram is a word or phrase formed by rearranging the letters of a different word or phrase, typically using all the original letters exactly once.\n",
    "\n",
    "``` \n",
    "Example 1:\n",
    "\n",
    "Input: strs = [\"eat\",\"tea\",\"tan\",\"ate\",\"nat\",\"bat\"]\n",
    "Output: [[\"bat\"],[\"nat\",\"tan\"],[\"ate\",\"eat\",\"tea\"]]\n",
    "\n",
    "Example 2:\n",
    "\n",
    "Input: strs = [\"\"]\n",
    "Output: [[\"\"]]\n",
    "\n",
    "Example 3:\n",
    "\n",
    "Input: strs = [\"a\"]\n",
    "Output: [[\"a\"]]\n",
    "```\n",
    " \n",
    "\n",
    "Constraints:\n",
    "```\n",
    "    1 <= strs.length <= 104\n",
    "    0 <= strs[i].length <= 100\n",
    "    strs[i] consists of lowercase English letters.\n",
    "```\n"
   ]
  },
  {
   "cell_type": "code",
   "execution_count": 6,
   "metadata": {},
   "outputs": [
    {
     "name": "stdout",
     "output_type": "stream",
     "text": [
      "~~ Testing groupAnagrams ~~\n",
      "in_ = (['eat', 'tea', 'tan', 'ate', 'nat', 'bat'],)\n",
      "out = \u001b[31m[['eat', 'tea', 'ate'], ['tan', 'nat'], ['bat']]\u001b[0m\n",
      "exp = [['bat'], ['nat', 'tan'], ['ate', 'eat', 'tea']]\n",
      "--\n",
      "in_ = ([''],)\n",
      "out = \u001b[32m[['']]\u001b[0m\n",
      "exp = [['']]\n",
      "--\n",
      "in_ = (['a'],)\n",
      "out = \u001b[32m[['a']]\u001b[0m\n",
      "exp = [['a']]\n",
      "--\n"
     ]
    }
   ],
   "source": [
    "test_cases = [\n",
    "    (\n",
    "        [\"eat\",\"tea\",\"tan\",\"ate\",\"nat\",\"bat\"],\n",
    "        [[\"bat\"],[\"nat\",\"tan\"],[\"ate\",\"eat\",\"tea\"]]\n",
    "    ),(\n",
    "        [\"\"],\n",
    "        [[\"\"]]\n",
    "    ),(\n",
    "        [\"a\"],\n",
    "        [[\"a\"]]\n",
    "    )\n",
    "]\n",
    "\n",
    "from collections import defaultdict\n",
    "\n",
    "\n",
    "class Solution:\n",
    "    def groupAnagrams(self, strs: List[str]) -> List[List[str]]:\n",
    "        \"\"\"Groups the anagrams in separate lists.\"\"\"\n",
    "        groups = defaultdict(list)\n",
    "        for s in strs:\n",
    "            groups[\"\".join(sorted(s))].append(s)\n",
    "        return list(groups.values())\n",
    "\n",
    "run_test_cases(Solution, test_cases)"
   ]
  },
  {
   "cell_type": "code",
   "execution_count": null,
   "metadata": {},
   "outputs": [],
   "source": []
  },
  {
   "cell_type": "code",
   "execution_count": null,
   "metadata": {},
   "outputs": [],
   "source": []
  },
  {
   "cell_type": "code",
   "execution_count": null,
   "metadata": {},
   "outputs": [],
   "source": []
  },
  {
   "cell_type": "code",
   "execution_count": null,
   "metadata": {},
   "outputs": [],
   "source": []
  },
  {
   "cell_type": "markdown",
   "metadata": {},
   "source": [
    "# Maximum Number of Balloons\n",
    "\n",
    "https://leetcode.com/problems/maximum-number-of-balloons/editorial/"
   ]
  },
  {
   "cell_type": "markdown",
   "metadata": {},
   "source": [
    "- Given a string `text`, you want to use the characters of `text` to form as many instances of the word \"balloon\" as possible.\n",
    "- You can use each character in `text` at most once.\n",
    "- Return the maximum number of instances that can be formed.\n",
    "```\n",
    "Example 1:\n",
    "\n",
    "Input: text = \"nlaebolko\"\n",
    "Output: 1\n",
    "\n",
    "Example 2:\n",
    "\n",
    "Input: text = \"loonbalxballpoon\"\n",
    "Output: 2\n",
    "\n",
    "Example 3:\n",
    "\n",
    "Input: text = \"leetcode\"\n",
    "Output: 0\n",
    "```\n",
    " \n",
    "Constraints:\n",
    "```\n",
    "    1 <= text.length <= 104\n",
    "    text consists of lower case English letters only.\n",
    "```"
   ]
  },
  {
   "cell_type": "code",
   "execution_count": 13,
   "metadata": {},
   "outputs": [
    {
     "name": "stdout",
     "output_type": "stream",
     "text": [
      "~~ Testing maxNumberOfBalloons ~~\n",
      "in_ = ('nlaebolko',)\n",
      "{'b': 1, 'a': 1, 'l': 2, 'o': 2, 'n': 1}\n",
      "{'b': 1.0, 'a': 1.0, 'l': 1.0, 'o': 1.0, 'n': 1.0}\n",
      "out = \u001b[32m1\u001b[0m\n",
      "exp = 1\n",
      "--\n",
      "in_ = ('loonbalxballpoon',)\n",
      "{'b': 1, 'a': 1, 'l': 2, 'o': 2, 'n': 1}\n",
      "{'b': 2.0, 'a': 2.0, 'l': 2.0, 'o': 2.0, 'n': 2.0}\n",
      "out = \u001b[32m2\u001b[0m\n",
      "exp = 2\n",
      "--\n",
      "in_ = ('leetcode',)\n",
      "{'b': 1, 'a': 1, 'l': 2, 'o': 2, 'n': 1}\n",
      "{'b': 0, 'a': 0, 'l': 0.5, 'o': 0.5, 'n': 0}\n",
      "out = \u001b[32m0\u001b[0m\n",
      "exp = 0\n",
      "--\n",
      "in_ = ('balloon_ban',)\n",
      "{'b': 1, 'a': 1, 'l': 2, 'o': 2, 'n': 1}\n",
      "{'b': 2.0, 'a': 2.0, 'l': 1.0, 'o': 1.0, 'n': 2.0}\n",
      "out = \u001b[32m1\u001b[0m\n",
      "exp = 1\n",
      "--\n"
     ]
    }
   ],
   "source": [
    "test_cases = [\n",
    "    (\n",
    "        \"nlaebolko\",\n",
    "        1\n",
    "    ),(\n",
    "        \"loonbalxballpoon\",\n",
    "        2\n",
    "    ),(\n",
    "        \"leetcode\",\n",
    "        0\n",
    "    ),(\n",
    "        \"balloon_ban\",\n",
    "        1\n",
    "    )\n",
    "]\n",
    "\n",
    "class Solution:\n",
    "    def maxNumberOfBalloons(self, text: str) -> int:\n",
    "        \"\"\"Counts the times 'balloon' can be formed with the letters from `text`.\"\"\"\n",
    "        # Known constraints on `text`:\n",
    "        # 1 <= text.length <= 104\n",
    "        # text consists of lower case English letters only.\n",
    "        needed_counts = Counter(\"balloon\")\n",
    "        obs_counts = {letter: 0 for letter in needed_counts}\n",
    "        for letter in text:\n",
    "            if letter in needed_counts:\n",
    "                obs_counts[letter] += 1/needed_counts[letter]\n",
    "                # When we see a \"b\", we add 1\n",
    "                # When we see an \"o\", we add 0.5 (since we need two \"o\"s for word)\n",
    "                # Later, if we have 1 in all needed letters, we know the word can be formed\n",
    "\n",
    "        # If we see 2 \"b\"s but only 1 \"n\", then we can only form 1 word.\n",
    "        # That's why we use min here.\n",
    "        return int(min(obs_counts.values()))\n",
    "\n",
    "\n",
    "run_test_cases(Solution, test_cases)"
   ]
  },
  {
   "cell_type": "code",
   "execution_count": null,
   "metadata": {},
   "outputs": [],
   "source": []
  },
  {
   "cell_type": "code",
   "execution_count": null,
   "metadata": {},
   "outputs": [],
   "source": []
  },
  {
   "cell_type": "markdown",
   "metadata": {},
   "source": [
    "# Largest Unique Number\n",
    "\n",
    "https://leetcode.com/problems/largest-unique-number/editorial/"
   ]
  },
  {
   "cell_type": "markdown",
   "metadata": {},
   "source": [
    "- Given an integer array `nums`, return the largest integer that only occurs once.\n",
    "- If no integer occurs once, return `-1`.\n",
    "\n",
    "```\n",
    "Example 1:\n",
    "\n",
    "Input: nums = [5,7,3,9,4,9,8,3,1]\n",
    "Output: 8\n",
    "Explanation: The maximum integer in the array is 9 but it is repeated. The number 8 occurs only once, so it is the answer.\n",
    "\n",
    "Example 2:\n",
    "\n",
    "Input: nums = [9,9,8,8]\n",
    "Output: -1\n",
    "Explanation: There is no number that occurs only once.\n",
    "```\n",
    " \n",
    "\n",
    "Constraints:\n",
    "```\n",
    "    1 <= nums.length <= 2000\n",
    "    0 <= nums[i] <= 1000\n",
    "```\n"
   ]
  },
  {
   "cell_type": "code",
   "execution_count": 3,
   "metadata": {},
   "outputs": [
    {
     "name": "stdout",
     "output_type": "stream",
     "text": [
      "~~ Testing largestUniqueNumber ~~\n",
      "in_ = ([5, 7, 3, 9, 4, 9, 8, 3, 1],)\n",
      "out = \u001b[32m8\u001b[0m\n",
      "exp = 8\n",
      "--\n",
      "in_ = ([9, 9, 8, 8],)\n",
      "out = \u001b[32m-1\u001b[0m\n",
      "exp = -1\n",
      "--\n"
     ]
    }
   ],
   "source": [
    "test_cases = [\n",
    "    (\n",
    "        [5,7,3,9,4,9,8,3,1],\n",
    "        8\n",
    "    ),(\n",
    "        [9,9,8,8],\n",
    "        -1\n",
    "    )\n",
    "]\n",
    "\n",
    "from collections import Counter\n",
    "\n",
    "\n",
    "class Solution:\n",
    "    # O(N) time\n",
    "    # O(N) space\n",
    "    def largestUniqueNumber(self, nums: List[int]) -> int:\n",
    "        \"\"\"Returns the largest integer that occurs only once, or -1.\"\"\"\n",
    "        max_seen = -1\n",
    "        for num, count in Counter(nums).items():\n",
    "            if count == 1:\n",
    "                max_seen = max(max_seen, num)\n",
    "        return max_seen        \n",
    "\n",
    "run_test_cases(Solution, test_cases)"
   ]
  },
  {
   "cell_type": "code",
   "execution_count": null,
   "metadata": {},
   "outputs": [],
   "source": []
  },
  {
   "cell_type": "markdown",
   "metadata": {},
   "source": [
    "# Find Players With Zero or One Losses\n",
    "\n",
    "https://leetcode.com/problems/find-players-with-zero-or-one-losses/editorial/"
   ]
  },
  {
   "cell_type": "markdown",
   "metadata": {},
   "source": [
    "- You are given an integer array `matches`\n",
    "- where `matches[i] = [winneri, loseri]` indicates that the player `winneri` defeated player `loseri` in a match.\n",
    "\n",
    "Return a list `answer` of size `2` where:\n",
    "\n",
    "- `answer[0]` is a list of all players that have not lost any matches.\n",
    "- `answer[1]` is a list of all players that have lost exactly one match.\n",
    "\n",
    "The values in the two lists should be returned **in increasing order**.\n",
    "\n",
    "Note:\n",
    "\n",
    "- You should only consider the players that have **played at least one match**.\n",
    "- The testcases will be generated such that _no two matches will have the same outcome_.\n",
    " \n",
    "```\n",
    "    Example 1\n",
    "\n",
    "    Input: matches = [[1,3],[2,3],[3,6],[5,6],[5,7],[4,5],[4,8],[4,9],[10,4],[10,9]]\n",
    "    Output: [[1,2,10],[4,5,7,8]]\n",
    "    Explanation:\n",
    "    Players 1, 2, and 10 have not lost any matches.\n",
    "    Players 4, 5, 7, and 8 each have lost one match.\n",
    "    Players 3, 6, and 9 each have lost two matches.\n",
    "    Thus, answer[0] = [1,2,10] and answer[1] = [4,5,7,8].\n",
    "\n",
    "    Example 2:\n",
    "\n",
    "    Input: matches = [[2,3],[1,3],[5,4],[6,4]]\n",
    "    Output: [[1,2,5,6],[]]\n",
    "    Explanation:\n",
    "    Players 1, 2, 5, and 6 have not lost any matches.\n",
    "    Players 3 and 4 each have lost two matches.\n",
    "    Thus, answer[0] = [1,2,5,6] and answer[1] = [].\n",
    "```\n",
    " \n",
    "Constraints:\n",
    "```\n",
    "    1 <= matches.length <= 105\n",
    "    matches[i].length == 2\n",
    "    1 <= winneri, loseri <= 105\n",
    "    winneri != loseri\n",
    "    All matches[i] are unique.\n",
    "```\n"
   ]
  },
  {
   "cell_type": "code",
   "execution_count": 45,
   "metadata": {},
   "outputs": [
    {
     "name": "stdout",
     "output_type": "stream",
     "text": [
      "~~ Testing findWinners ~~\n",
      "in_ = ([[1, 3], [2, 3], [3, 6], [5, 6], [5, 7], [4, 5], [4, 8], [4, 9], [10, 4], [10, 9]],)\n",
      "out = [[1, 2, 10], [4, 5, 7, 8]]\n",
      "exp = [[1, 2, 10], [4, 5, 7, 8]]\n",
      "--\n",
      "in_ = ([[2, 3], [1, 3], [5, 4], [6, 4]],)\n",
      "out = [[1, 2, 5, 6], []]\n",
      "exp = [[1, 2, 5, 6], []]\n",
      "--\n"
     ]
    }
   ],
   "source": [
    "test_cases = [\n",
    "    (\n",
    "        [[1,3],[2,3],[3,6],[5,6],[5,7],[4,5],[4,8],[4,9],[10,4],[10,9]],\n",
    "        [[1,2,10],[4,5,7,8]]\n",
    "    ),\n",
    "    (\n",
    "        [[2,3],[1,3],[5,4],[6,4]],\n",
    "        [[1,2,5,6],[]],\n",
    "    )\n",
    "]\n",
    "\n",
    "from collections import defaultdict\n",
    "\n",
    "\n",
    "class Solution:\n",
    "    # Time: O(N log N)\n",
    "    # Space: O(N)\n",
    "    def findWinners(self, matches: List[List[int]]) -> List[List[int]]:\n",
    "        \"\"\"Lists all players (in increasing order) that lost exactly 0 or 1 match.\"\"\"\n",
    "        loss_count = defaultdict(int)\n",
    "        for winner, loser in matches:\n",
    "            loss_count[loser] += 1\n",
    "            loss_count[winner] += 0\n",
    "\n",
    "        lost_zero = []\n",
    "        lost_one = []\n",
    "        for player, loss_count in loss_count.items():\n",
    "            if loss_count == 1:\n",
    "                lost_one.append(player)\n",
    "            elif loss_count == 0:\n",
    "                lost_zero.append(player)\n",
    "\n",
    "        lost_zero.sort()\n",
    "        lost_one.sort()\n",
    "        return [lost_zero, lost_one]\n",
    "\n",
    "\n",
    "run_test_cases(Solution, test_cases)"
   ]
  },
  {
   "cell_type": "code",
   "execution_count": 50,
   "metadata": {},
   "outputs": [
    {
     "name": "stdout",
     "output_type": "stream",
     "text": [
      "~~ Testing findWinners ~~\n",
      "in_ = ([[1, 3], [2, 3], [3, 6], [5, 6], [5, 7], [4, 5], [4, 8], [4, 9], [10, 4], [10, 9]],)\n",
      "out = [[1, 2, 10], []]\n",
      "exp = [[1, 2, 10], [4, 5, 7, 8]]\n",
      "--\n",
      "in_ = ([[2, 3], [1, 3], [5, 4], [6, 4]],)\n",
      "out = [[1, 2, 5, 6], []]\n",
      "exp = [[1, 2, 5, 6], []]\n",
      "--\n"
     ]
    }
   ],
   "source": [
    "# Editorial solution from leetcode\n",
    "class Solution:\n",
    "    def findWinners(self, matches: List[List[int]]) -> List[List[int]]:\n",
    "        \"\"\"Lists all players (in increasing order) that lost exactly 0 or 1 match.\"\"\"\n",
    "        losses = [None] * 100_001  # Why 100K?\n",
    "        for winner, loser in matches:\n",
    "            if losses[winner] is None:\n",
    "                losses[winner] = 0\n",
    "            if losses[loser] is None:\n",
    "                losses[loser] = 0\n",
    "            losses[loser] += 1\n",
    "            # NOTE: Placing the players in their corresponding index already *sorts* them!\n",
    "\n",
    "        lost_zero, lost_one = [], []\n",
    "        for player, loss_count in enumerate(losses):\n",
    "            if loss_count == 0:\n",
    "                lost_zero.append(player)\n",
    "            if loss_count == -1:\n",
    "                lost_one.append(player)\n",
    "\n",
    "        return [lost_zero, lost_one]\n",
    "\n",
    " \n",
    "run_test_cases(Solution, test_cases)"
   ]
  },
  {
   "cell_type": "markdown",
   "metadata": {},
   "source": [
    "# Check if the Sentence Is Pangram\n",
    "\n",
    "https://leetcode.com/explore/interview/card/leetcodes-interview-crash-course-data-structures-and-algorithms/705/hashing/4601/"
   ]
  },
  {
   "cell_type": "markdown",
   "metadata": {},
   "source": [
    "- A pangram is a sentence where every letter of the English alphabet appears at least once.\n",
    "- Given a string sentence containing only lowercase English letters, return `true` if sentence is a pangram, or `false` otherwise.\n",
    "\n",
    "````\n",
    "Example 1:\n",
    "\n",
    "Input: sentence = \"thequickbrownfoxjumpsoverthelazydog\"\n",
    "Output: true\n",
    "Explanation: sentence contains at least one of every letter of the English alphabet.\n",
    "\n",
    "Example 2:\n",
    "\n",
    "Input: sentence = \"leetcode\"\n",
    "Output: false\n",
    "````\n",
    " \n",
    "\n",
    "Constraints:\n",
    "```\n",
    "    1 <= sentence.length <= 1000\n",
    "    sentence consists of lowercase English letters.\n",
    "```\n"
   ]
  },
  {
   "cell_type": "code",
   "execution_count": 15,
   "metadata": {},
   "outputs": [
    {
     "data": {
      "text/plain": [
       "26"
      ]
     },
     "execution_count": 15,
     "metadata": {},
     "output_type": "execute_result"
    }
   ],
   "source": [
    "import string\n",
    "\n",
    "len(string.ascii_lowercase)"
   ]
  },
  {
   "cell_type": "code",
   "execution_count": 16,
   "metadata": {},
   "outputs": [
    {
     "name": "stdout",
     "output_type": "stream",
     "text": [
      "~~ Testing checkIfPangram ~~\n",
      "in_ = ('thequickbrownfoxjumpsoverthelazydog',)\n",
      "out = True\n",
      "exp = True\n",
      "--\n",
      "in_ = ('leetcode',)\n",
      "out = False\n",
      "exp = False\n",
      "--\n",
      "~~ Testing checkIfPangram2 ~~\n",
      "in_ = ('thequickbrownfoxjumpsoverthelazydog',)\n",
      "out = True\n",
      "exp = True\n",
      "--\n",
      "in_ = ('leetcode',)\n",
      "out = False\n",
      "exp = False\n",
      "--\n"
     ]
    }
   ],
   "source": [
    "test_cases = [\n",
    "    (\n",
    "        \"thequickbrownfoxjumpsoverthelazydog\",\n",
    "        True,\n",
    "    ),(\n",
    "        \"leetcode\",\n",
    "        False,\n",
    "    )\n",
    "]\n",
    "\n",
    "import string\n",
    "\n",
    "\n",
    "class Solution:\n",
    "    N_LETTERS = len(string.ascii_lowercase)\n",
    "\n",
    "    # O(N) time because set(sentence)\n",
    "    # O(N) space because a set is created that depends on the size of sentence\n",
    "    def checkIfPangram(self, sentence: str) -> bool:\n",
    "        # sentence consists *only* of lowercase English letters\n",
    "        return len(set(sentence)) == self.N_LETTERS\n",
    "\n",
    "    def checkIfPangram2(self, sentence: str) -> bool:\n",
    "        observed_letters = set()\n",
    "        for letter in sentence:\n",
    "            observed_letters.add(letter)\n",
    "        return len(observed_letters) == self.N_LETTERS\n",
    "\n",
    "\n",
    "run_test_cases(Solution, test_cases)"
   ]
  },
  {
   "cell_type": "markdown",
   "metadata": {},
   "source": [
    "# Missing Number\n",
    "\n",
    "https://leetcode.com/problems/missing-number/editorial/"
   ]
  },
  {
   "cell_type": "markdown",
   "metadata": {},
   "source": [
    "- Given an array `nums` containing `n` distinct numbers in the range `[0, n]`,\n",
    "- return the **only number in the range that is missing** from the array.\n",
    "\n",
    "Constraints:\n",
    "```\n",
    "    n == nums.length\n",
    "    1 <= n <= 104\n",
    "    0 <= nums[i] <= n\n",
    "    All the numbers of nums are unique.\n",
    "```\n",
    "\n",
    "Follow up: Could you implement a solution using only O(1) extra space complexity and O(n) runtime complexity?"
   ]
  },
  {
   "cell_type": "code",
   "execution_count": 17,
   "metadata": {},
   "outputs": [
    {
     "name": "stdout",
     "output_type": "stream",
     "text": [
      "~~ Testing missingNumber ~~\n",
      "in_ = ([3, 0, 1],)\n",
      "out = 2\n",
      "exp = 2\n",
      "--\n",
      "in_ = ([0, 1],)\n",
      "out = 2\n",
      "exp = 2\n",
      "--\n",
      "in_ = ([9, 6, 4, 2, 3, 5, 7, 0, 1],)\n",
      "out = 8\n",
      "exp = 8\n",
      "--\n",
      "~~ Testing missingNumberGaussian ~~\n",
      "in_ = ([3, 0, 1],)\n",
      "out = 2\n",
      "exp = 2\n",
      "--\n",
      "in_ = ([0, 1],)\n",
      "out = 2\n",
      "exp = 2\n",
      "--\n",
      "in_ = ([9, 6, 4, 2, 3, 5, 7, 0, 1],)\n",
      "out = 8\n",
      "exp = 8\n",
      "--\n"
     ]
    }
   ],
   "source": [
    "test_cases = [\n",
    "    (\n",
    "        [3,0,1],\n",
    "        2\n",
    "    ),(\n",
    "        [0,1],\n",
    "        2\n",
    "    ),(\n",
    "        [9,6,4,2,3,5,7,0,1],\n",
    "        8\n",
    "    )\n",
    "]\n",
    "\n",
    "\n",
    "# O(N) time\n",
    "# O(N) space, because we store the seen numbers\n",
    "class Solution:\n",
    "    def missingNumber(self, nums: List[int]) -> int:\n",
    "        n = len(nums)\n",
    "        seen = set(nums)\n",
    "        for i in range(n + 1):  # Inclusive range, [0, n]\n",
    "            if i not in seen:\n",
    "                return i\n",
    "            \n",
    "    # O(1) space!\n",
    "    def missingNumberGaussian(self, nums: List[int]) -> int:\n",
    "        n = len(nums)\n",
    "        expected_sum = n * (n + 1)/2\n",
    "        actual_sum = sum(nums)  # O(n) time\n",
    "        return int(expected_sum - actual_sum)\n",
    "\n",
    "run_test_cases(Solution, test_cases)"
   ]
  },
  {
   "cell_type": "markdown",
   "metadata": {},
   "source": [
    "# Counting Elements\n",
    "\n",
    "https://leetcode.com/problems/counting-elements/editorial/"
   ]
  },
  {
   "cell_type": "markdown",
   "metadata": {},
   "source": [
    "- Given an integer array `arr`, count how many elements `x` there are, such that `x + 1` is also in `arr`.\n",
    "- If there are duplicates in `arr`, count them separately.\n",
    " \n",
    "```\n",
    "Example 1:\n",
    "\n",
    "Input: arr = [1,2,3]\n",
    "Output: 2\n",
    "Explanation: 1 and 2 are counted cause 2 and 3 are in arr.\n",
    "\n",
    "Example 2:\n",
    "\n",
    "Input: arr = [1,1,3,3,5,5,7,7]\n",
    "Output: 0\n",
    "Explanation: No numbers are counted, cause there is no 2, 4, 6, or 8 in arr.\n",
    "```\n",
    " \n",
    "\n",
    "Constraints:\n",
    "```\n",
    "    1 <= arr.length <= 1000\n",
    "    0 <= arr[i] <= 1000\n",
    "```\n"
   ]
  },
  {
   "cell_type": "code",
   "execution_count": 18,
   "metadata": {},
   "outputs": [
    {
     "name": "stdout",
     "output_type": "stream",
     "text": [
      "~~ Testing countElements ~~\n",
      "in_ = ([1, 2, 3],)\n",
      "out = 2\n",
      "exp = 2\n",
      "--\n",
      "in_ = ([1, 1, 3, 3, 5, 5, 7, 7],)\n",
      "out = 0\n",
      "exp = 0\n",
      "--\n",
      "in_ = ([1, 1, 2, 2],)\n",
      "out = 2\n",
      "exp = 2\n",
      "--\n",
      "~~ Testing countElements2 ~~\n",
      "in_ = ([1, 2, 3],)\n",
      "out = 2\n",
      "exp = 2\n",
      "--\n",
      "in_ = ([1, 1, 3, 3, 5, 5, 7, 7],)\n",
      "out = 0\n",
      "exp = 0\n",
      "--\n",
      "in_ = ([1, 1, 2, 2],)\n",
      "out = 2\n",
      "exp = 2\n",
      "--\n"
     ]
    }
   ],
   "source": [
    "test_cases = [\n",
    "    (\n",
    "        [1,2,3],\n",
    "        2\n",
    "    ),(\n",
    "        [1,1,3,3,5,5,7,7],\n",
    "        0\n",
    "    ),(\n",
    "        [1,1,2,2],\n",
    "        2\n",
    "    )\n",
    "]\n",
    "\n",
    "from collections import Counter\n",
    "\n",
    "\n",
    "# Time: O(N)\n",
    "# Space: O(N)\n",
    "class Solution:\n",
    "    def countElements(self, arr: List[int]) -> int:\n",
    "        seen = Counter(arr)\n",
    "        nums_with_successor = 0\n",
    "        for num in seen:\n",
    "            if num + 1 in seen:\n",
    "                nums_with_successor += seen[num]  # Adds the number of occurrences of num\n",
    "        return nums_with_successor\n",
    "\n",
    "    # This one is cleaner, and no need for Counter\n",
    "    def countElements2(self, arr: List[int]) -> int:\n",
    "        seen = set(arr)\n",
    "        count = 0\n",
    "        for num in arr:\n",
    "            if num + 1 in seen:\n",
    "                count += 1\n",
    "        return count\n",
    "\n",
    "\n",
    "run_test_cases(Solution, test_cases)"
   ]
  },
  {
   "cell_type": "markdown",
   "metadata": {},
   "source": [
    "# 560. Subarray Sum Equals K\n",
    "\n",
    "https://leetcode.com/problems/subarray-sum-equals-k/"
   ]
  },
  {
   "cell_type": "markdown",
   "metadata": {},
   "source": [
    "- Given an array of integers `nums` and an integer `k`,\n",
    "- return the total number of subarrays whose sum equals to `k`.\n",
    "- A subarray is a contiguous non-empty sequence of elements within an array.\n",
    "\n",
    " \n",
    "```\n",
    "Example 1:\n",
    "\n",
    "Input: nums = [1,1,1], k = 2\n",
    "Output: 2\n",
    "\n",
    "Example 2:\n",
    "\n",
    "Input: nums = [1,2,3], k = 3\n",
    "Output: 2\n",
    "```\n",
    " \n",
    "\n",
    "Constraints:\n",
    "```\n",
    "    1 <= nums.length <= 2 * 104\n",
    "    -1000 <= nums[i] <= 1000\n",
    "    -107 <= k <= 107\n",
    "```\n"
   ]
  },
  {
   "cell_type": "code",
   "execution_count": 19,
   "metadata": {},
   "outputs": [
    {
     "name": "stdout",
     "output_type": "stream",
     "text": [
      "~~ Testing subarraySum ~~\n",
      "in_ = ({'nums': [1, 1, 1], 'k': 2},)\n",
      "out = 2\n",
      "exp = 2\n",
      "--\n",
      "in_ = ({'nums': [1, 2, 3], 'k': 3},)\n",
      "out = 2\n",
      "exp = 2\n",
      "--\n"
     ]
    }
   ],
   "source": [
    "test_cases = [\n",
    "    (\n",
    "        dict(nums = [1,1,1], k = 2),\n",
    "        2\n",
    "    ),(\n",
    "        dict(nums = [1,2,3], k = 3),\n",
    "        2\n",
    "    )\n",
    "]\n",
    "\n",
    "from collections import defaultdict\n",
    "\n",
    "\n",
    "# Time: O(N)\n",
    "# Space: O(N)\n",
    "class Solution:\n",
    "    def subarraySum(self, nums: List[int], k: int) -> int:\n",
    "        \"\"\"Counts the number of subarrays of nums that sum k.\"\"\"\n",
    "        # Constraints:\n",
    "        # 1 <= nums.length <= 2 * 104\n",
    "        # -1000 <= nums[i] <= 1000\n",
    "        # -107 <= k <= 107\n",
    "        prefix_sum_counts_by_total = defaultdict(int)\n",
    "        prefix_sum_counts_by_total[0] = 1  # Initialize for the special case []\n",
    "        solution = 0\n",
    "        running_total = 0\n",
    "\n",
    "        for num in nums:\n",
    "            running_total += num\n",
    "            remainder_to_k = running_total - k\n",
    "            n_subarrays_that_sum_k = prefix_sum_counts_by_total[remainder_to_k]\n",
    "            solution += n_subarrays_that_sum_k\n",
    "            prefix_sum_counts_by_total[running_total] += 1\n",
    "        return solution\n",
    "\n",
    "\n",
    "run_test_cases(Solution, test_cases)"
   ]
  },
  {
   "cell_type": "markdown",
   "metadata": {},
   "source": [
    "# 1248. Count Number of Nice Subarrays\n",
    "https://leetcode.com/problems/count-number-of-nice-subarrays/"
   ]
  },
  {
   "cell_type": "markdown",
   "metadata": {},
   "source": [
    "- Given an array of integers nums and an integer `k`.\n",
    "- A continuous subarray is called nice if there are `k` odd numbers on it.\n",
    "- Return the number of nice sub-arrays.\n",
    "```\n",
    "Example 1:\n",
    "\n",
    "Input: nums = [1,1,2,1,1], k = 3\n",
    "Output: 2\n",
    "Explanation: The only sub-arrays with 3 odd numbers are [1,1,2,1] and [1,2,1,1].\n",
    "\n",
    "Example 2:\n",
    "\n",
    "Input: nums = [2,4,6], k = 1\n",
    "Output: 0\n",
    "Explanation: There is no odd numbers in the array.\n",
    "\n",
    "Example 3:\n",
    "\n",
    "Input: nums = [2,2,2,1,2,2,1,2,2,2], k = 2\n",
    "Output: 16\n",
    "```\n",
    " \n",
    "\n",
    "Constraints:\n",
    "```\n",
    "    1 <= nums.length <= 50000\n",
    "    1 <= nums[i] <= 10^5\n",
    "    1 <= k <= nums.length\n",
    "```"
   ]
  },
  {
   "cell_type": "code",
   "execution_count": 20,
   "metadata": {},
   "outputs": [],
   "source": [
    "test_cases = [\n",
    "    (\n",
    "        dict(nums = [1,1,2,1,1], k = 3),\n",
    "        2\n",
    "    ),(\n",
    "        dict(nums = [2,4,6], k = 1),\n",
    "        0\n",
    "    ),(\n",
    "        dict(nums = [2,2,2,1,2,2,1,2,2,2], k = 2),\n",
    "        16\n",
    "    )\n",
    "]"
   ]
  },
  {
   "cell_type": "code",
   "execution_count": 21,
   "metadata": {},
   "outputs": [
    {
     "name": "stdout",
     "output_type": "stream",
     "text": [
      "~~ Testing numberOfSubarrays ~~\n",
      "in_ = ({'nums': [1, 1, 2, 1, 1], 'k': 3},)\n",
      "out = 2\n",
      "exp = 2\n",
      "--\n",
      "in_ = ({'nums': [2, 4, 6], 'k': 1},)\n",
      "out = 0\n",
      "exp = 0\n",
      "--\n",
      "in_ = ({'nums': [2, 2, 2, 1, 2, 2, 1, 2, 2, 2], 'k': 2},)\n",
      "out = 16\n",
      "exp = 16\n",
      "--\n"
     ]
    }
   ],
   "source": [
    "from collections import defaultdict\n",
    "\n",
    "\n",
    "class Solution:\n",
    "    def numberOfSubarrays(self, nums: List[int], k: int) -> int:\n",
    "        \"\"\"Counts the subarrays of `nums` that have `k` odd numbers in them.\"\"\"\n",
    "        # 1 <= nums.length <= 50K\n",
    "        # 1 <= nums[i] <= 10^5\n",
    "        # 1 <= k <= nums.length\n",
    "        count = 0\n",
    "        total_odds = 0\n",
    "        total_odds_counts = defaultdict(int)\n",
    "        total_odds_counts[0] = 1  # The empty [] counts as summing 0 odd numbers\n",
    "        for num in nums:\n",
    "            is_odd = num % 2 == 1\n",
    "            if is_odd:\n",
    "                total_odds += 1\n",
    "            remainder = total_odds - k\n",
    "            count += total_odds_counts[remainder]\n",
    "            total_odds_counts[total_odds] += 1\n",
    "        return count\n",
    "\n",
    "\n",
    "run_test_cases(Solution, test_cases)"
   ]
  },
  {
   "cell_type": "code",
   "execution_count": null,
   "metadata": {},
   "outputs": [],
   "source": []
  },
  {
   "cell_type": "code",
   "execution_count": null,
   "metadata": {},
   "outputs": [],
   "source": []
  },
  {
   "cell_type": "code",
   "execution_count": null,
   "metadata": {},
   "outputs": [],
   "source": []
  },
  {
   "cell_type": "code",
   "execution_count": null,
   "metadata": {},
   "outputs": [],
   "source": []
  },
  {
   "cell_type": "code",
   "execution_count": null,
   "metadata": {},
   "outputs": [],
   "source": []
  },
  {
   "cell_type": "code",
   "execution_count": null,
   "metadata": {},
   "outputs": [],
   "source": []
  },
  {
   "cell_type": "code",
   "execution_count": null,
   "metadata": {},
   "outputs": [],
   "source": []
  },
  {
   "cell_type": "code",
   "execution_count": null,
   "metadata": {},
   "outputs": [],
   "source": []
  },
  {
   "cell_type": "code",
   "execution_count": null,
   "metadata": {},
   "outputs": [],
   "source": []
  },
  {
   "cell_type": "code",
   "execution_count": null,
   "metadata": {},
   "outputs": [],
   "source": []
  },
  {
   "cell_type": "code",
   "execution_count": null,
   "metadata": {},
   "outputs": [],
   "source": []
  },
  {
   "cell_type": "code",
   "execution_count": null,
   "metadata": {},
   "outputs": [],
   "source": []
  },
  {
   "cell_type": "code",
   "execution_count": null,
   "metadata": {},
   "outputs": [],
   "source": []
  },
  {
   "cell_type": "code",
   "execution_count": null,
   "metadata": {},
   "outputs": [],
   "source": []
  },
  {
   "cell_type": "code",
   "execution_count": null,
   "metadata": {},
   "outputs": [],
   "source": []
  },
  {
   "cell_type": "code",
   "execution_count": null,
   "metadata": {},
   "outputs": [],
   "source": []
  },
  {
   "cell_type": "code",
   "execution_count": null,
   "metadata": {},
   "outputs": [],
   "source": []
  },
  {
   "cell_type": "code",
   "execution_count": null,
   "metadata": {},
   "outputs": [],
   "source": []
  },
  {
   "cell_type": "code",
   "execution_count": null,
   "metadata": {},
   "outputs": [],
   "source": []
  },
  {
   "cell_type": "code",
   "execution_count": null,
   "metadata": {},
   "outputs": [],
   "source": []
  },
  {
   "cell_type": "code",
   "execution_count": null,
   "metadata": {},
   "outputs": [],
   "source": []
  },
  {
   "cell_type": "code",
   "execution_count": null,
   "metadata": {},
   "outputs": [],
   "source": []
  },
  {
   "cell_type": "code",
   "execution_count": null,
   "metadata": {},
   "outputs": [],
   "source": []
  },
  {
   "cell_type": "code",
   "execution_count": null,
   "metadata": {},
   "outputs": [],
   "source": []
  },
  {
   "cell_type": "code",
   "execution_count": null,
   "metadata": {},
   "outputs": [],
   "source": []
  },
  {
   "cell_type": "code",
   "execution_count": null,
   "metadata": {},
   "outputs": [],
   "source": []
  },
  {
   "cell_type": "code",
   "execution_count": null,
   "metadata": {},
   "outputs": [],
   "source": []
  },
  {
   "cell_type": "code",
   "execution_count": null,
   "metadata": {},
   "outputs": [],
   "source": []
  },
  {
   "cell_type": "code",
   "execution_count": null,
   "metadata": {},
   "outputs": [],
   "source": []
  },
  {
   "cell_type": "code",
   "execution_count": null,
   "metadata": {},
   "outputs": [],
   "source": []
  },
  {
   "cell_type": "code",
   "execution_count": null,
   "metadata": {},
   "outputs": [],
   "source": []
  },
  {
   "cell_type": "code",
   "execution_count": null,
   "metadata": {},
   "outputs": [],
   "source": []
  },
  {
   "cell_type": "code",
   "execution_count": null,
   "metadata": {},
   "outputs": [],
   "source": []
  },
  {
   "cell_type": "code",
   "execution_count": null,
   "metadata": {},
   "outputs": [],
   "source": []
  },
  {
   "cell_type": "code",
   "execution_count": null,
   "metadata": {},
   "outputs": [],
   "source": []
  },
  {
   "cell_type": "code",
   "execution_count": null,
   "metadata": {},
   "outputs": [],
   "source": []
  },
  {
   "cell_type": "code",
   "execution_count": null,
   "metadata": {},
   "outputs": [],
   "source": []
  },
  {
   "cell_type": "code",
   "execution_count": null,
   "metadata": {},
   "outputs": [],
   "source": []
  },
  {
   "cell_type": "code",
   "execution_count": null,
   "metadata": {},
   "outputs": [],
   "source": []
  },
  {
   "cell_type": "code",
   "execution_count": null,
   "metadata": {},
   "outputs": [],
   "source": []
  },
  {
   "cell_type": "code",
   "execution_count": null,
   "metadata": {},
   "outputs": [],
   "source": []
  },
  {
   "cell_type": "code",
   "execution_count": null,
   "metadata": {},
   "outputs": [],
   "source": []
  },
  {
   "cell_type": "code",
   "execution_count": null,
   "metadata": {},
   "outputs": [],
   "source": []
  },
  {
   "cell_type": "code",
   "execution_count": null,
   "metadata": {},
   "outputs": [],
   "source": []
  },
  {
   "cell_type": "code",
   "execution_count": null,
   "metadata": {},
   "outputs": [],
   "source": []
  },
  {
   "cell_type": "code",
   "execution_count": null,
   "metadata": {},
   "outputs": [],
   "source": []
  },
  {
   "cell_type": "code",
   "execution_count": null,
   "metadata": {},
   "outputs": [],
   "source": []
  },
  {
   "cell_type": "code",
   "execution_count": null,
   "metadata": {},
   "outputs": [],
   "source": []
  },
  {
   "cell_type": "code",
   "execution_count": null,
   "metadata": {},
   "outputs": [],
   "source": []
  },
  {
   "cell_type": "code",
   "execution_count": null,
   "metadata": {},
   "outputs": [],
   "source": []
  },
  {
   "cell_type": "code",
   "execution_count": null,
   "metadata": {},
   "outputs": [],
   "source": []
  },
  {
   "cell_type": "code",
   "execution_count": null,
   "metadata": {},
   "outputs": [],
   "source": []
  },
  {
   "cell_type": "code",
   "execution_count": null,
   "metadata": {},
   "outputs": [],
   "source": []
  },
  {
   "cell_type": "code",
   "execution_count": null,
   "metadata": {},
   "outputs": [],
   "source": []
  },
  {
   "cell_type": "code",
   "execution_count": null,
   "metadata": {},
   "outputs": [],
   "source": []
  },
  {
   "cell_type": "code",
   "execution_count": null,
   "metadata": {},
   "outputs": [],
   "source": []
  },
  {
   "cell_type": "code",
   "execution_count": null,
   "metadata": {},
   "outputs": [],
   "source": []
  },
  {
   "cell_type": "code",
   "execution_count": null,
   "metadata": {},
   "outputs": [],
   "source": []
  },
  {
   "cell_type": "code",
   "execution_count": null,
   "metadata": {},
   "outputs": [],
   "source": []
  },
  {
   "cell_type": "code",
   "execution_count": null,
   "metadata": {},
   "outputs": [],
   "source": []
  },
  {
   "cell_type": "code",
   "execution_count": null,
   "metadata": {},
   "outputs": [],
   "source": []
  },
  {
   "cell_type": "code",
   "execution_count": null,
   "metadata": {},
   "outputs": [],
   "source": []
  },
  {
   "cell_type": "code",
   "execution_count": null,
   "metadata": {},
   "outputs": [],
   "source": []
  },
  {
   "cell_type": "code",
   "execution_count": null,
   "metadata": {},
   "outputs": [],
   "source": []
  },
  {
   "cell_type": "code",
   "execution_count": null,
   "metadata": {},
   "outputs": [],
   "source": []
  },
  {
   "cell_type": "code",
   "execution_count": null,
   "metadata": {},
   "outputs": [],
   "source": []
  },
  {
   "cell_type": "code",
   "execution_count": null,
   "metadata": {},
   "outputs": [],
   "source": []
  },
  {
   "cell_type": "code",
   "execution_count": null,
   "metadata": {},
   "outputs": [],
   "source": []
  },
  {
   "cell_type": "code",
   "execution_count": null,
   "metadata": {},
   "outputs": [],
   "source": []
  },
  {
   "cell_type": "code",
   "execution_count": null,
   "metadata": {},
   "outputs": [],
   "source": []
  },
  {
   "cell_type": "code",
   "execution_count": null,
   "metadata": {},
   "outputs": [],
   "source": []
  },
  {
   "cell_type": "code",
   "execution_count": null,
   "metadata": {},
   "outputs": [],
   "source": []
  },
  {
   "cell_type": "code",
   "execution_count": null,
   "metadata": {},
   "outputs": [],
   "source": []
  },
  {
   "cell_type": "code",
   "execution_count": null,
   "metadata": {},
   "outputs": [],
   "source": []
  },
  {
   "cell_type": "code",
   "execution_count": null,
   "metadata": {},
   "outputs": [],
   "source": []
  },
  {
   "cell_type": "code",
   "execution_count": null,
   "metadata": {},
   "outputs": [],
   "source": []
  },
  {
   "cell_type": "code",
   "execution_count": null,
   "metadata": {},
   "outputs": [],
   "source": []
  },
  {
   "cell_type": "code",
   "execution_count": null,
   "metadata": {},
   "outputs": [],
   "source": []
  },
  {
   "cell_type": "code",
   "execution_count": null,
   "metadata": {},
   "outputs": [],
   "source": []
  },
  {
   "cell_type": "code",
   "execution_count": null,
   "metadata": {},
   "outputs": [],
   "source": []
  },
  {
   "cell_type": "code",
   "execution_count": null,
   "metadata": {},
   "outputs": [],
   "source": []
  },
  {
   "cell_type": "code",
   "execution_count": null,
   "metadata": {},
   "outputs": [],
   "source": []
  },
  {
   "cell_type": "code",
   "execution_count": null,
   "metadata": {},
   "outputs": [],
   "source": []
  },
  {
   "cell_type": "code",
   "execution_count": null,
   "metadata": {},
   "outputs": [],
   "source": []
  },
  {
   "cell_type": "code",
   "execution_count": null,
   "metadata": {},
   "outputs": [],
   "source": []
  },
  {
   "cell_type": "code",
   "execution_count": null,
   "metadata": {},
   "outputs": [],
   "source": []
  },
  {
   "cell_type": "code",
   "execution_count": null,
   "metadata": {},
   "outputs": [],
   "source": []
  },
  {
   "cell_type": "code",
   "execution_count": null,
   "metadata": {},
   "outputs": [],
   "source": []
  },
  {
   "cell_type": "code",
   "execution_count": null,
   "metadata": {},
   "outputs": [],
   "source": []
  },
  {
   "cell_type": "code",
   "execution_count": null,
   "metadata": {},
   "outputs": [],
   "source": []
  },
  {
   "cell_type": "code",
   "execution_count": null,
   "metadata": {},
   "outputs": [],
   "source": []
  },
  {
   "cell_type": "code",
   "execution_count": null,
   "metadata": {},
   "outputs": [],
   "source": []
  },
  {
   "cell_type": "code",
   "execution_count": null,
   "metadata": {},
   "outputs": [],
   "source": []
  },
  {
   "cell_type": "code",
   "execution_count": null,
   "metadata": {},
   "outputs": [],
   "source": []
  },
  {
   "cell_type": "code",
   "execution_count": null,
   "metadata": {},
   "outputs": [],
   "source": []
  },
  {
   "cell_type": "code",
   "execution_count": null,
   "metadata": {},
   "outputs": [],
   "source": []
  },
  {
   "cell_type": "code",
   "execution_count": null,
   "metadata": {},
   "outputs": [],
   "source": []
  },
  {
   "cell_type": "code",
   "execution_count": null,
   "metadata": {},
   "outputs": [],
   "source": []
  },
  {
   "cell_type": "code",
   "execution_count": null,
   "metadata": {},
   "outputs": [],
   "source": []
  },
  {
   "cell_type": "code",
   "execution_count": null,
   "metadata": {},
   "outputs": [],
   "source": []
  },
  {
   "cell_type": "code",
   "execution_count": null,
   "metadata": {},
   "outputs": [],
   "source": []
  },
  {
   "cell_type": "code",
   "execution_count": null,
   "metadata": {},
   "outputs": [],
   "source": []
  },
  {
   "cell_type": "code",
   "execution_count": null,
   "metadata": {},
   "outputs": [],
   "source": []
  },
  {
   "cell_type": "code",
   "execution_count": null,
   "metadata": {},
   "outputs": [],
   "source": []
  },
  {
   "cell_type": "code",
   "execution_count": null,
   "metadata": {},
   "outputs": [],
   "source": []
  },
  {
   "cell_type": "code",
   "execution_count": null,
   "metadata": {},
   "outputs": [],
   "source": []
  },
  {
   "cell_type": "code",
   "execution_count": null,
   "metadata": {},
   "outputs": [],
   "source": []
  },
  {
   "cell_type": "code",
   "execution_count": null,
   "metadata": {},
   "outputs": [],
   "source": []
  },
  {
   "cell_type": "code",
   "execution_count": null,
   "metadata": {},
   "outputs": [],
   "source": []
  },
  {
   "cell_type": "code",
   "execution_count": null,
   "metadata": {},
   "outputs": [],
   "source": []
  },
  {
   "cell_type": "code",
   "execution_count": null,
   "metadata": {},
   "outputs": [],
   "source": []
  },
  {
   "cell_type": "code",
   "execution_count": null,
   "metadata": {},
   "outputs": [],
   "source": []
  },
  {
   "cell_type": "code",
   "execution_count": null,
   "metadata": {},
   "outputs": [],
   "source": []
  },
  {
   "cell_type": "code",
   "execution_count": null,
   "metadata": {},
   "outputs": [],
   "source": []
  },
  {
   "cell_type": "code",
   "execution_count": null,
   "metadata": {},
   "outputs": [],
   "source": []
  },
  {
   "cell_type": "code",
   "execution_count": null,
   "metadata": {},
   "outputs": [],
   "source": []
  },
  {
   "cell_type": "code",
   "execution_count": null,
   "metadata": {},
   "outputs": [],
   "source": []
  },
  {
   "cell_type": "code",
   "execution_count": null,
   "metadata": {},
   "outputs": [],
   "source": []
  },
  {
   "cell_type": "code",
   "execution_count": null,
   "metadata": {},
   "outputs": [],
   "source": []
  },
  {
   "cell_type": "code",
   "execution_count": null,
   "metadata": {},
   "outputs": [],
   "source": []
  },
  {
   "cell_type": "code",
   "execution_count": null,
   "metadata": {},
   "outputs": [],
   "source": []
  }
 ],
 "metadata": {
  "kernelspec": {
   "display_name": "py311",
   "language": "python",
   "name": "python3"
  },
  "language_info": {
   "codemirror_mode": {
    "name": "ipython",
    "version": 3
   },
   "file_extension": ".py",
   "mimetype": "text/x-python",
   "name": "python",
   "nbconvert_exporter": "python",
   "pygments_lexer": "ipython3",
   "version": "3.11.3"
  },
  "orig_nbformat": 4
 },
 "nbformat": 4,
 "nbformat_minor": 2
}

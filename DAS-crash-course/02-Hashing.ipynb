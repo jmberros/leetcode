{
 "cells": [
  {
   "cell_type": "code",
   "execution_count": 1,
   "metadata": {},
   "outputs": [],
   "source": [
    "from utils import run_test_cases\n",
    "from typing import List"
   ]
  },
  {
   "cell_type": "markdown",
   "metadata": {},
   "source": [
    "# Check if the Sentence Is Pangram\n",
    "\n",
    "https://leetcode.com/explore/interview/card/leetcodes-interview-crash-course-data-structures-and-algorithms/705/hashing/4601/"
   ]
  },
  {
   "cell_type": "markdown",
   "metadata": {},
   "source": [
    "- A pangram is a sentence where every letter of the English alphabet appears at least once.\n",
    "- Given a string sentence containing only lowercase English letters, return `true` if sentence is a pangram, or `false` otherwise.\n",
    "\n",
    "````\n",
    "Example 1:\n",
    "\n",
    "Input: sentence = \"thequickbrownfoxjumpsoverthelazydog\"\n",
    "Output: true\n",
    "Explanation: sentence contains at least one of every letter of the English alphabet.\n",
    "\n",
    "Example 2:\n",
    "\n",
    "Input: sentence = \"leetcode\"\n",
    "Output: false\n",
    "````\n",
    " \n",
    "\n",
    "Constraints:\n",
    "```\n",
    "    1 <= sentence.length <= 1000\n",
    "    sentence consists of lowercase English letters.\n",
    "```\n"
   ]
  },
  {
   "cell_type": "code",
   "execution_count": 2,
   "metadata": {},
   "outputs": [
    {
     "data": {
      "text/plain": [
       "26"
      ]
     },
     "execution_count": 2,
     "metadata": {},
     "output_type": "execute_result"
    }
   ],
   "source": [
    "import string\n",
    "\n",
    "len(string.ascii_lowercase)"
   ]
  },
  {
   "cell_type": "code",
   "execution_count": 3,
   "metadata": {},
   "outputs": [
    {
     "name": "stdout",
     "output_type": "stream",
     "text": [
      "~~ Testing checkIfPangram ~~\n",
      "in_ = ('thequickbrownfoxjumpsoverthelazydog',)\n",
      "out = True\n",
      "exp = True\n",
      "--\n",
      "in_ = ('leetcode',)\n",
      "out = False\n",
      "exp = False\n",
      "--\n",
      "~~ Testing checkIfPangram2 ~~\n",
      "in_ = ('thequickbrownfoxjumpsoverthelazydog',)\n",
      "out = True\n",
      "exp = True\n",
      "--\n",
      "in_ = ('leetcode',)\n",
      "out = False\n",
      "exp = False\n",
      "--\n"
     ]
    }
   ],
   "source": [
    "test_cases = [\n",
    "    (\n",
    "        \"thequickbrownfoxjumpsoverthelazydog\",\n",
    "        True,\n",
    "    ),(\n",
    "        \"leetcode\",\n",
    "        False,\n",
    "    )\n",
    "]\n",
    "\n",
    "import string\n",
    "\n",
    "\n",
    "class Solution:\n",
    "    N_LETTERS = len(string.ascii_lowercase)\n",
    "\n",
    "    # O(N) time because set(sentence)\n",
    "    # O(N) space because a set is created that depends on the size of sentence\n",
    "    def checkIfPangram(self, sentence: str) -> bool:\n",
    "        # sentence consists *only* of lowercase English letters\n",
    "        return len(set(sentence)) == self.N_LETTERS\n",
    "\n",
    "    def checkIfPangram2(self, sentence: str) -> bool:\n",
    "        observed_letters = set()\n",
    "        for letter in sentence:\n",
    "            observed_letters.add(letter)\n",
    "        return len(observed_letters) == self.N_LETTERS\n",
    "\n",
    "\n",
    "run_test_cases(Solution, test_cases)"
   ]
  },
  {
   "cell_type": "markdown",
   "metadata": {},
   "source": [
    "# Missing Number\n",
    "\n",
    "https://leetcode.com/problems/missing-number/editorial/"
   ]
  },
  {
   "cell_type": "markdown",
   "metadata": {},
   "source": [
    "- Given an array `nums` containing `n` distinct numbers in the range `[0, n]`,\n",
    "- return the **only number in the range that is missing** from the array.\n",
    "\n",
    "Constraints:\n",
    "```\n",
    "    n == nums.length\n",
    "    1 <= n <= 104\n",
    "    0 <= nums[i] <= n\n",
    "    All the numbers of nums are unique.\n",
    "```\n",
    "\n",
    "Follow up: Could you implement a solution using only O(1) extra space complexity and O(n) runtime complexity?"
   ]
  },
  {
   "cell_type": "code",
   "execution_count": 4,
   "metadata": {},
   "outputs": [
    {
     "name": "stdout",
     "output_type": "stream",
     "text": [
      "~~ Testing missingNumber ~~\n",
      "in_ = ([3, 0, 1],)\n",
      "out = 2\n",
      "exp = 2\n",
      "--\n",
      "in_ = ([0, 1],)\n",
      "out = 2\n",
      "exp = 2\n",
      "--\n",
      "in_ = ([9, 6, 4, 2, 3, 5, 7, 0, 1],)\n",
      "out = 8\n",
      "exp = 8\n",
      "--\n",
      "~~ Testing missingNumberGaussian ~~\n",
      "in_ = ([3, 0, 1],)\n",
      "out = 2\n",
      "exp = 2\n",
      "--\n",
      "in_ = ([0, 1],)\n",
      "out = 2\n",
      "exp = 2\n",
      "--\n",
      "in_ = ([9, 6, 4, 2, 3, 5, 7, 0, 1],)\n",
      "out = 8\n",
      "exp = 8\n",
      "--\n"
     ]
    }
   ],
   "source": [
    "test_cases = [\n",
    "    (\n",
    "        [3,0,1],\n",
    "        2\n",
    "    ),(\n",
    "        [0,1],\n",
    "        2\n",
    "    ),(\n",
    "        [9,6,4,2,3,5,7,0,1],\n",
    "        8\n",
    "    )\n",
    "]\n",
    "\n",
    "\n",
    "# O(N) time\n",
    "# O(N) space, because we store the seen numbers\n",
    "class Solution:\n",
    "    def missingNumber(self, nums: List[int]) -> int:\n",
    "        n = len(nums)\n",
    "        seen = set(nums)\n",
    "        for i in range(n + 1):  # Inclusive range, [0, n]\n",
    "            if i not in seen:\n",
    "                return i\n",
    "            \n",
    "    # O(1) space!\n",
    "    def missingNumberGaussian(self, nums: List[int]) -> int:\n",
    "        n = len(nums)\n",
    "        expected_sum = n * (n + 1)/2\n",
    "        actual_sum = sum(nums)  # O(n) time\n",
    "        return int(expected_sum - actual_sum)\n",
    "\n",
    "run_test_cases(Solution, test_cases)"
   ]
  },
  {
   "cell_type": "markdown",
   "metadata": {},
   "source": [
    "# Counting Elements\n",
    "\n",
    "https://leetcode.com/problems/counting-elements/editorial/"
   ]
  },
  {
   "cell_type": "markdown",
   "metadata": {},
   "source": [
    "- Given an integer array `arr`, count how many elements `x` there are, such that `x + 1` is also in `arr`.\n",
    "- If there are duplicates in `arr`, count them separately.\n",
    " \n",
    "```\n",
    "Example 1:\n",
    "\n",
    "Input: arr = [1,2,3]\n",
    "Output: 2\n",
    "Explanation: 1 and 2 are counted cause 2 and 3 are in arr.\n",
    "\n",
    "Example 2:\n",
    "\n",
    "Input: arr = [1,1,3,3,5,5,7,7]\n",
    "Output: 0\n",
    "Explanation: No numbers are counted, cause there is no 2, 4, 6, or 8 in arr.\n",
    "```\n",
    " \n",
    "\n",
    "Constraints:\n",
    "```\n",
    "    1 <= arr.length <= 1000\n",
    "    0 <= arr[i] <= 1000\n",
    "```\n"
   ]
  },
  {
   "cell_type": "code",
   "execution_count": 5,
   "metadata": {},
   "outputs": [
    {
     "name": "stdout",
     "output_type": "stream",
     "text": [
      "~~ Testing countElements ~~\n",
      "in_ = ([1, 2, 3],)\n",
      "out = 2\n",
      "exp = 2\n",
      "--\n",
      "in_ = ([1, 1, 3, 3, 5, 5, 7, 7],)\n",
      "out = 0\n",
      "exp = 0\n",
      "--\n",
      "in_ = ([1, 1, 2, 2],)\n",
      "out = 2\n",
      "exp = 2\n",
      "--\n",
      "~~ Testing countElements2 ~~\n",
      "in_ = ([1, 2, 3],)\n",
      "out = 2\n",
      "exp = 2\n",
      "--\n",
      "in_ = ([1, 1, 3, 3, 5, 5, 7, 7],)\n",
      "out = 0\n",
      "exp = 0\n",
      "--\n",
      "in_ = ([1, 1, 2, 2],)\n",
      "out = 2\n",
      "exp = 2\n",
      "--\n"
     ]
    }
   ],
   "source": [
    "test_cases = [\n",
    "    (\n",
    "        [1,2,3],\n",
    "        2\n",
    "    ),(\n",
    "        [1,1,3,3,5,5,7,7],\n",
    "        0\n",
    "    ),(\n",
    "        [1,1,2,2],\n",
    "        2\n",
    "    )\n",
    "]\n",
    "\n",
    "from collections import Counter\n",
    "\n",
    "\n",
    "# Time: O(N)\n",
    "# Space: O(N)\n",
    "class Solution:\n",
    "    def countElements(self, arr: List[int]) -> int:\n",
    "        seen = Counter(arr)\n",
    "        nums_with_successor = 0\n",
    "        for num in seen:\n",
    "            if num + 1 in seen:\n",
    "                nums_with_successor += seen[num]  # Adds the number of occurrences of num\n",
    "        return nums_with_successor\n",
    "\n",
    "    # This one is cleaner, and no need for Counter\n",
    "    def countElements2(self, arr: List[int]) -> int:\n",
    "        seen = set(arr)\n",
    "        count = 0\n",
    "        for num in arr:\n",
    "            if num + 1 in seen:\n",
    "                count += 1\n",
    "        return count\n",
    "\n",
    "\n",
    "run_test_cases(Solution, test_cases)"
   ]
  },
  {
   "cell_type": "markdown",
   "metadata": {},
   "source": [
    "# 560. Subarray Sum Equals K\n",
    "\n",
    "https://leetcode.com/problems/subarray-sum-equals-k/"
   ]
  },
  {
   "cell_type": "markdown",
   "metadata": {},
   "source": [
    "- Given an array of integers `nums` and an integer `k`,\n",
    "- return the total number of subarrays whose sum equals to `k`.\n",
    "- A subarray is a contiguous non-empty sequence of elements within an array.\n",
    "\n",
    " \n",
    "```\n",
    "Example 1:\n",
    "\n",
    "Input: nums = [1,1,1], k = 2\n",
    "Output: 2\n",
    "\n",
    "Example 2:\n",
    "\n",
    "Input: nums = [1,2,3], k = 3\n",
    "Output: 2\n",
    "```\n",
    " \n",
    "\n",
    "Constraints:\n",
    "```\n",
    "    1 <= nums.length <= 2 * 104\n",
    "    -1000 <= nums[i] <= 1000\n",
    "    -107 <= k <= 107\n",
    "```\n"
   ]
  },
  {
   "cell_type": "code",
   "execution_count": 6,
   "metadata": {},
   "outputs": [
    {
     "name": "stdout",
     "output_type": "stream",
     "text": [
      "~~ Testing subarraySum ~~\n",
      "in_ = ({'nums': [1, 1, 1], 'k': 2},)\n",
      "out = 2\n",
      "exp = 2\n",
      "--\n",
      "in_ = ({'nums': [1, 2, 3], 'k': 3},)\n",
      "out = 2\n",
      "exp = 2\n",
      "--\n"
     ]
    }
   ],
   "source": [
    "test_cases = [\n",
    "    (\n",
    "        dict(nums = [1,1,1], k = 2),\n",
    "        2\n",
    "    ),(\n",
    "        dict(nums = [1,2,3], k = 3),\n",
    "        2\n",
    "    )\n",
    "]\n",
    "\n",
    "from collections import defaultdict\n",
    "\n",
    "\n",
    "# Time: O(N)\n",
    "# Space: O(N)\n",
    "class Solution:\n",
    "    def subarraySum(self, nums: List[int], k: int) -> int:\n",
    "        \"\"\"Counts the number of subarrays of nums that sum k.\"\"\"\n",
    "        # Constraints:\n",
    "        # 1 <= nums.length <= 2 * 104\n",
    "        # -1000 <= nums[i] <= 1000\n",
    "        # -107 <= k <= 107\n",
    "        prefix_sum_counts_by_total = defaultdict(int)\n",
    "        prefix_sum_counts_by_total[0] = 1  # Initialize for the special case []\n",
    "        solution = 0\n",
    "        running_total = 0\n",
    "\n",
    "        for num in nums:\n",
    "            running_total += num\n",
    "            remainder_to_k = running_total - k\n",
    "            n_subarrays_that_sum_k = prefix_sum_counts_by_total[remainder_to_k]\n",
    "            solution += n_subarrays_that_sum_k\n",
    "            prefix_sum_counts_by_total[running_total] += 1\n",
    "        return solution\n",
    "\n",
    "\n",
    "run_test_cases(Solution, test_cases)"
   ]
  },
  {
   "cell_type": "markdown",
   "metadata": {},
   "source": [
    "# 1248. Count Number of Nice Subarrays\n",
    "https://leetcode.com/problems/count-number-of-nice-subarrays/"
   ]
  },
  {
   "cell_type": "markdown",
   "metadata": {},
   "source": [
    "- Given an array of integers nums and an integer `k`.\n",
    "- A continuous subarray is called nice if there are `k` odd numbers on it.\n",
    "- Return the number of nice sub-arrays.\n",
    "```\n",
    "Example 1:\n",
    "\n",
    "Input: nums = [1,1,2,1,1], k = 3\n",
    "Output: 2\n",
    "Explanation: The only sub-arrays with 3 odd numbers are [1,1,2,1] and [1,2,1,1].\n",
    "\n",
    "Example 2:\n",
    "\n",
    "Input: nums = [2,4,6], k = 1\n",
    "Output: 0\n",
    "Explanation: There is no odd numbers in the array.\n",
    "\n",
    "Example 3:\n",
    "\n",
    "Input: nums = [2,2,2,1,2,2,1,2,2,2], k = 2\n",
    "Output: 16\n",
    "```\n",
    " \n",
    "\n",
    "Constraints:\n",
    "```\n",
    "    1 <= nums.length <= 50000\n",
    "    1 <= nums[i] <= 10^5\n",
    "    1 <= k <= nums.length\n",
    "```"
   ]
  },
  {
   "cell_type": "code",
   "execution_count": 7,
   "metadata": {},
   "outputs": [],
   "source": [
    "test_cases = [\n",
    "    (\n",
    "        dict(nums = [1,1,2,1,1], k = 3),\n",
    "        2\n",
    "    ),(\n",
    "        dict(nums = [2,4,6], k = 1),\n",
    "        0\n",
    "    ),(\n",
    "        dict(nums = [2,2,2,1,2,2,1,2,2,2], k = 2),\n",
    "        16\n",
    "    )\n",
    "]"
   ]
  },
  {
   "cell_type": "code",
   "execution_count": 11,
   "metadata": {},
   "outputs": [
    {
     "name": "stdout",
     "output_type": "stream",
     "text": [
      "~~ Testing numberOfSubarrays ~~\n",
      "in_ = ({'nums': [1, 1, 2, 1, 1], 'k': 3},)\n",
      "out = 2\n",
      "exp = 2\n",
      "--\n",
      "in_ = ({'nums': [2, 4, 6], 'k': 1},)\n",
      "out = 0\n",
      "exp = 0\n",
      "--\n",
      "in_ = ({'nums': [2, 2, 2, 1, 2, 2, 1, 2, 2, 2], 'k': 2},)\n",
      "out = 16\n",
      "exp = 16\n",
      "--\n"
     ]
    }
   ],
   "source": [
    "from collections import defaultdict\n",
    "\n",
    "\n",
    "class Solution:\n",
    "    def numberOfSubarrays(self, nums: List[int], k: int) -> int:\n",
    "        \"\"\"Counts the subarrays of `nums` that have `k` odd numbers in them.\"\"\"\n",
    "        # 1 <= nums.length <= 50K\n",
    "        # 1 <= nums[i] <= 10^5\n",
    "        # 1 <= k <= nums.length\n",
    "        count = 0\n",
    "        total_odds = 0\n",
    "        total_odds_counts = defaultdict(int)\n",
    "        total_odds_counts[0] = 1  # The empty [] counts as summing 0 odd numbers\n",
    "        for num in nums:\n",
    "            is_odd = num % 2 == 1\n",
    "            if is_odd:\n",
    "                total_odds += 1\n",
    "            remainder = total_odds - k\n",
    "            count += total_odds_counts[remainder]\n",
    "            total_odds_counts[total_odds] += 1\n",
    "        return count\n",
    "\n",
    "\n",
    "run_test_cases(Solution, test_cases)"
   ]
  },
  {
   "cell_type": "code",
   "execution_count": null,
   "metadata": {},
   "outputs": [],
   "source": [
    "# "
   ]
  },
  {
   "cell_type": "code",
   "execution_count": null,
   "metadata": {},
   "outputs": [],
   "source": []
  },
  {
   "cell_type": "code",
   "execution_count": null,
   "metadata": {},
   "outputs": [],
   "source": []
  },
  {
   "cell_type": "code",
   "execution_count": null,
   "metadata": {},
   "outputs": [],
   "source": []
  },
  {
   "cell_type": "code",
   "execution_count": null,
   "metadata": {},
   "outputs": [],
   "source": []
  },
  {
   "cell_type": "code",
   "execution_count": null,
   "metadata": {},
   "outputs": [],
   "source": []
  },
  {
   "cell_type": "code",
   "execution_count": null,
   "metadata": {},
   "outputs": [],
   "source": []
  },
  {
   "cell_type": "code",
   "execution_count": null,
   "metadata": {},
   "outputs": [],
   "source": []
  },
  {
   "cell_type": "code",
   "execution_count": null,
   "metadata": {},
   "outputs": [],
   "source": []
  },
  {
   "cell_type": "code",
   "execution_count": null,
   "metadata": {},
   "outputs": [],
   "source": []
  },
  {
   "cell_type": "code",
   "execution_count": null,
   "metadata": {},
   "outputs": [],
   "source": []
  },
  {
   "cell_type": "code",
   "execution_count": null,
   "metadata": {},
   "outputs": [],
   "source": []
  },
  {
   "cell_type": "code",
   "execution_count": null,
   "metadata": {},
   "outputs": [],
   "source": []
  },
  {
   "cell_type": "code",
   "execution_count": null,
   "metadata": {},
   "outputs": [],
   "source": []
  },
  {
   "cell_type": "code",
   "execution_count": null,
   "metadata": {},
   "outputs": [],
   "source": []
  },
  {
   "cell_type": "code",
   "execution_count": null,
   "metadata": {},
   "outputs": [],
   "source": []
  },
  {
   "cell_type": "code",
   "execution_count": null,
   "metadata": {},
   "outputs": [],
   "source": []
  },
  {
   "cell_type": "code",
   "execution_count": null,
   "metadata": {},
   "outputs": [],
   "source": []
  },
  {
   "cell_type": "code",
   "execution_count": null,
   "metadata": {},
   "outputs": [],
   "source": []
  },
  {
   "cell_type": "code",
   "execution_count": null,
   "metadata": {},
   "outputs": [],
   "source": []
  },
  {
   "cell_type": "code",
   "execution_count": null,
   "metadata": {},
   "outputs": [],
   "source": []
  },
  {
   "cell_type": "code",
   "execution_count": null,
   "metadata": {},
   "outputs": [],
   "source": []
  },
  {
   "cell_type": "code",
   "execution_count": null,
   "metadata": {},
   "outputs": [],
   "source": []
  },
  {
   "cell_type": "code",
   "execution_count": null,
   "metadata": {},
   "outputs": [],
   "source": []
  },
  {
   "cell_type": "code",
   "execution_count": null,
   "metadata": {},
   "outputs": [],
   "source": []
  },
  {
   "cell_type": "code",
   "execution_count": null,
   "metadata": {},
   "outputs": [],
   "source": []
  },
  {
   "cell_type": "code",
   "execution_count": null,
   "metadata": {},
   "outputs": [],
   "source": []
  },
  {
   "cell_type": "code",
   "execution_count": null,
   "metadata": {},
   "outputs": [],
   "source": []
  },
  {
   "cell_type": "code",
   "execution_count": null,
   "metadata": {},
   "outputs": [],
   "source": []
  },
  {
   "cell_type": "code",
   "execution_count": null,
   "metadata": {},
   "outputs": [],
   "source": []
  },
  {
   "cell_type": "code",
   "execution_count": null,
   "metadata": {},
   "outputs": [],
   "source": []
  },
  {
   "cell_type": "code",
   "execution_count": null,
   "metadata": {},
   "outputs": [],
   "source": []
  },
  {
   "cell_type": "code",
   "execution_count": null,
   "metadata": {},
   "outputs": [],
   "source": []
  },
  {
   "cell_type": "code",
   "execution_count": null,
   "metadata": {},
   "outputs": [],
   "source": []
  },
  {
   "cell_type": "code",
   "execution_count": null,
   "metadata": {},
   "outputs": [],
   "source": []
  },
  {
   "cell_type": "code",
   "execution_count": null,
   "metadata": {},
   "outputs": [],
   "source": []
  },
  {
   "cell_type": "code",
   "execution_count": null,
   "metadata": {},
   "outputs": [],
   "source": []
  },
  {
   "cell_type": "code",
   "execution_count": null,
   "metadata": {},
   "outputs": [],
   "source": []
  },
  {
   "cell_type": "code",
   "execution_count": null,
   "metadata": {},
   "outputs": [],
   "source": []
  },
  {
   "cell_type": "code",
   "execution_count": null,
   "metadata": {},
   "outputs": [],
   "source": []
  },
  {
   "cell_type": "code",
   "execution_count": null,
   "metadata": {},
   "outputs": [],
   "source": []
  },
  {
   "cell_type": "code",
   "execution_count": null,
   "metadata": {},
   "outputs": [],
   "source": []
  },
  {
   "cell_type": "code",
   "execution_count": null,
   "metadata": {},
   "outputs": [],
   "source": []
  },
  {
   "cell_type": "code",
   "execution_count": null,
   "metadata": {},
   "outputs": [],
   "source": []
  },
  {
   "cell_type": "code",
   "execution_count": null,
   "metadata": {},
   "outputs": [],
   "source": []
  },
  {
   "cell_type": "code",
   "execution_count": null,
   "metadata": {},
   "outputs": [],
   "source": []
  },
  {
   "cell_type": "code",
   "execution_count": null,
   "metadata": {},
   "outputs": [],
   "source": []
  },
  {
   "cell_type": "code",
   "execution_count": null,
   "metadata": {},
   "outputs": [],
   "source": []
  },
  {
   "cell_type": "code",
   "execution_count": null,
   "metadata": {},
   "outputs": [],
   "source": []
  },
  {
   "cell_type": "code",
   "execution_count": null,
   "metadata": {},
   "outputs": [],
   "source": []
  },
  {
   "cell_type": "code",
   "execution_count": null,
   "metadata": {},
   "outputs": [],
   "source": []
  },
  {
   "cell_type": "code",
   "execution_count": null,
   "metadata": {},
   "outputs": [],
   "source": []
  },
  {
   "cell_type": "code",
   "execution_count": null,
   "metadata": {},
   "outputs": [],
   "source": []
  },
  {
   "cell_type": "code",
   "execution_count": null,
   "metadata": {},
   "outputs": [],
   "source": []
  },
  {
   "cell_type": "code",
   "execution_count": null,
   "metadata": {},
   "outputs": [],
   "source": []
  },
  {
   "cell_type": "code",
   "execution_count": null,
   "metadata": {},
   "outputs": [],
   "source": []
  },
  {
   "cell_type": "code",
   "execution_count": null,
   "metadata": {},
   "outputs": [],
   "source": []
  },
  {
   "cell_type": "code",
   "execution_count": null,
   "metadata": {},
   "outputs": [],
   "source": []
  },
  {
   "cell_type": "code",
   "execution_count": null,
   "metadata": {},
   "outputs": [],
   "source": []
  },
  {
   "cell_type": "code",
   "execution_count": null,
   "metadata": {},
   "outputs": [],
   "source": []
  },
  {
   "cell_type": "code",
   "execution_count": null,
   "metadata": {},
   "outputs": [],
   "source": []
  },
  {
   "cell_type": "code",
   "execution_count": null,
   "metadata": {},
   "outputs": [],
   "source": []
  },
  {
   "cell_type": "code",
   "execution_count": null,
   "metadata": {},
   "outputs": [],
   "source": []
  },
  {
   "cell_type": "code",
   "execution_count": null,
   "metadata": {},
   "outputs": [],
   "source": []
  },
  {
   "cell_type": "code",
   "execution_count": null,
   "metadata": {},
   "outputs": [],
   "source": []
  },
  {
   "cell_type": "code",
   "execution_count": null,
   "metadata": {},
   "outputs": [],
   "source": []
  },
  {
   "cell_type": "code",
   "execution_count": null,
   "metadata": {},
   "outputs": [],
   "source": []
  },
  {
   "cell_type": "code",
   "execution_count": null,
   "metadata": {},
   "outputs": [],
   "source": []
  },
  {
   "cell_type": "code",
   "execution_count": null,
   "metadata": {},
   "outputs": [],
   "source": []
  },
  {
   "cell_type": "code",
   "execution_count": null,
   "metadata": {},
   "outputs": [],
   "source": []
  },
  {
   "cell_type": "code",
   "execution_count": null,
   "metadata": {},
   "outputs": [],
   "source": []
  },
  {
   "cell_type": "code",
   "execution_count": null,
   "metadata": {},
   "outputs": [],
   "source": []
  },
  {
   "cell_type": "code",
   "execution_count": null,
   "metadata": {},
   "outputs": [],
   "source": []
  },
  {
   "cell_type": "code",
   "execution_count": null,
   "metadata": {},
   "outputs": [],
   "source": []
  },
  {
   "cell_type": "code",
   "execution_count": null,
   "metadata": {},
   "outputs": [],
   "source": []
  },
  {
   "cell_type": "code",
   "execution_count": null,
   "metadata": {},
   "outputs": [],
   "source": []
  },
  {
   "cell_type": "code",
   "execution_count": null,
   "metadata": {},
   "outputs": [],
   "source": []
  },
  {
   "cell_type": "code",
   "execution_count": null,
   "metadata": {},
   "outputs": [],
   "source": []
  },
  {
   "cell_type": "code",
   "execution_count": null,
   "metadata": {},
   "outputs": [],
   "source": []
  },
  {
   "cell_type": "code",
   "execution_count": null,
   "metadata": {},
   "outputs": [],
   "source": []
  },
  {
   "cell_type": "code",
   "execution_count": null,
   "metadata": {},
   "outputs": [],
   "source": []
  },
  {
   "cell_type": "code",
   "execution_count": null,
   "metadata": {},
   "outputs": [],
   "source": []
  },
  {
   "cell_type": "code",
   "execution_count": null,
   "metadata": {},
   "outputs": [],
   "source": []
  },
  {
   "cell_type": "code",
   "execution_count": null,
   "metadata": {},
   "outputs": [],
   "source": []
  },
  {
   "cell_type": "code",
   "execution_count": null,
   "metadata": {},
   "outputs": [],
   "source": []
  },
  {
   "cell_type": "code",
   "execution_count": null,
   "metadata": {},
   "outputs": [],
   "source": []
  },
  {
   "cell_type": "code",
   "execution_count": null,
   "metadata": {},
   "outputs": [],
   "source": []
  },
  {
   "cell_type": "code",
   "execution_count": null,
   "metadata": {},
   "outputs": [],
   "source": []
  },
  {
   "cell_type": "code",
   "execution_count": null,
   "metadata": {},
   "outputs": [],
   "source": []
  },
  {
   "cell_type": "code",
   "execution_count": null,
   "metadata": {},
   "outputs": [],
   "source": []
  },
  {
   "cell_type": "code",
   "execution_count": null,
   "metadata": {},
   "outputs": [],
   "source": []
  },
  {
   "cell_type": "code",
   "execution_count": null,
   "metadata": {},
   "outputs": [],
   "source": []
  },
  {
   "cell_type": "code",
   "execution_count": null,
   "metadata": {},
   "outputs": [],
   "source": []
  },
  {
   "cell_type": "code",
   "execution_count": null,
   "metadata": {},
   "outputs": [],
   "source": []
  },
  {
   "cell_type": "code",
   "execution_count": null,
   "metadata": {},
   "outputs": [],
   "source": []
  },
  {
   "cell_type": "code",
   "execution_count": null,
   "metadata": {},
   "outputs": [],
   "source": []
  },
  {
   "cell_type": "code",
   "execution_count": null,
   "metadata": {},
   "outputs": [],
   "source": []
  },
  {
   "cell_type": "code",
   "execution_count": null,
   "metadata": {},
   "outputs": [],
   "source": []
  },
  {
   "cell_type": "code",
   "execution_count": null,
   "metadata": {},
   "outputs": [],
   "source": []
  },
  {
   "cell_type": "code",
   "execution_count": null,
   "metadata": {},
   "outputs": [],
   "source": []
  },
  {
   "cell_type": "code",
   "execution_count": null,
   "metadata": {},
   "outputs": [],
   "source": []
  },
  {
   "cell_type": "code",
   "execution_count": null,
   "metadata": {},
   "outputs": [],
   "source": []
  },
  {
   "cell_type": "code",
   "execution_count": null,
   "metadata": {},
   "outputs": [],
   "source": []
  },
  {
   "cell_type": "code",
   "execution_count": null,
   "metadata": {},
   "outputs": [],
   "source": []
  },
  {
   "cell_type": "code",
   "execution_count": null,
   "metadata": {},
   "outputs": [],
   "source": []
  },
  {
   "cell_type": "code",
   "execution_count": null,
   "metadata": {},
   "outputs": [],
   "source": []
  },
  {
   "cell_type": "code",
   "execution_count": null,
   "metadata": {},
   "outputs": [],
   "source": []
  },
  {
   "cell_type": "code",
   "execution_count": null,
   "metadata": {},
   "outputs": [],
   "source": []
  },
  {
   "cell_type": "code",
   "execution_count": null,
   "metadata": {},
   "outputs": [],
   "source": []
  },
  {
   "cell_type": "code",
   "execution_count": null,
   "metadata": {},
   "outputs": [],
   "source": []
  },
  {
   "cell_type": "code",
   "execution_count": null,
   "metadata": {},
   "outputs": [],
   "source": []
  },
  {
   "cell_type": "code",
   "execution_count": null,
   "metadata": {},
   "outputs": [],
   "source": []
  },
  {
   "cell_type": "code",
   "execution_count": null,
   "metadata": {},
   "outputs": [],
   "source": []
  },
  {
   "cell_type": "code",
   "execution_count": null,
   "metadata": {},
   "outputs": [],
   "source": []
  },
  {
   "cell_type": "code",
   "execution_count": null,
   "metadata": {},
   "outputs": [],
   "source": []
  },
  {
   "cell_type": "code",
   "execution_count": null,
   "metadata": {},
   "outputs": [],
   "source": []
  },
  {
   "cell_type": "code",
   "execution_count": null,
   "metadata": {},
   "outputs": [],
   "source": []
  },
  {
   "cell_type": "code",
   "execution_count": null,
   "metadata": {},
   "outputs": [],
   "source": []
  },
  {
   "cell_type": "code",
   "execution_count": null,
   "metadata": {},
   "outputs": [],
   "source": []
  },
  {
   "cell_type": "code",
   "execution_count": null,
   "metadata": {},
   "outputs": [],
   "source": []
  },
  {
   "cell_type": "code",
   "execution_count": null,
   "metadata": {},
   "outputs": [],
   "source": []
  },
  {
   "cell_type": "code",
   "execution_count": null,
   "metadata": {},
   "outputs": [],
   "source": []
  },
  {
   "cell_type": "code",
   "execution_count": null,
   "metadata": {},
   "outputs": [],
   "source": []
  }
 ],
 "metadata": {
  "kernelspec": {
   "display_name": "py311",
   "language": "python",
   "name": "python3"
  },
  "language_info": {
   "codemirror_mode": {
    "name": "ipython",
    "version": 3
   },
   "file_extension": ".py",
   "mimetype": "text/x-python",
   "name": "python",
   "nbconvert_exporter": "python",
   "pygments_lexer": "ipython3",
   "version": "3.11.3"
  },
  "orig_nbformat": 4
 },
 "nbformat": 4,
 "nbformat_minor": 2
}

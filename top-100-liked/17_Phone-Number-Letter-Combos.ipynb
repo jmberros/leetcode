{
 "cells": [
  {
   "cell_type": "markdown",
   "metadata": {},
   "source": [
    "17. Letter Combinations of a Phone Number\n",
    "\n",
    "https://leetcode.com/problems/letter-combinations-of-a-phone-number/?envType=study-plan-v2&envId=top-100-liked\n",
    "\n",
    "Given a string containing digits from 2-9 inclusive, return all possible letter combinations that the number could represent. Return the answer in any order.\n",
    "\n",
    "A mapping of digits to letters (just like on the telephone buttons) is given below. Note that 1 does not map to any letters."
   ]
  },
  {
   "cell_type": "code",
   "execution_count": 2,
   "metadata": {},
   "outputs": [],
   "source": [
    "test_cases = [\n",
    "    (\n",
    "        \"23\",\n",
    "        [\"ad\",\"ae\",\"af\",\"bd\",\"be\",\"bf\",\"cd\",\"ce\",\"cf\"],\n",
    "    ),\n",
    "    (\n",
    "        \"\",\n",
    "        [],\n",
    "    ),\n",
    "    (\n",
    "        \"2\",\n",
    "         [\"a\",\"b\",\"c\"]\n",
    "    )\n",
    "]"
   ]
  },
  {
   "cell_type": "code",
   "execution_count": 13,
   "metadata": {},
   "outputs": [
    {
     "data": {
      "text/plain": [
       "[('a', 'd', 'a'),\n",
       " ('a', 'd', 'b'),\n",
       " ('a', 'd', 'c'),\n",
       " ('a', 'e', 'a'),\n",
       " ('a', 'e', 'b'),\n",
       " ('a', 'e', 'c'),\n",
       " ('a', 'f', 'a'),\n",
       " ('a', 'f', 'b'),\n",
       " ('a', 'f', 'c'),\n",
       " ('b', 'd', 'a'),\n",
       " ('b', 'd', 'b'),\n",
       " ('b', 'd', 'c'),\n",
       " ('b', 'e', 'a'),\n",
       " ('b', 'e', 'b'),\n",
       " ('b', 'e', 'c'),\n",
       " ('b', 'f', 'a'),\n",
       " ('b', 'f', 'b'),\n",
       " ('b', 'f', 'c'),\n",
       " ('c', 'd', 'a'),\n",
       " ('c', 'd', 'b'),\n",
       " ('c', 'd', 'c'),\n",
       " ('c', 'e', 'a'),\n",
       " ('c', 'e', 'b'),\n",
       " ('c', 'e', 'c'),\n",
       " ('c', 'f', 'a'),\n",
       " ('c', 'f', 'b'),\n",
       " ('c', 'f', 'c')]"
      ]
     },
     "execution_count": 13,
     "metadata": {},
     "output_type": "execute_result"
    }
   ],
   "source": [
    "from itertools import product\n",
    "\n",
    "list(product(\"abc\", \"def\", \"abc\"))"
   ]
  },
  {
   "cell_type": "code",
   "execution_count": 17,
   "metadata": {},
   "outputs": [
    {
     "name": "stdout",
     "output_type": "stream",
     "text": [
      "23\n",
      "['ad', 'ae', 'af', 'bd', 'be', 'bf', 'cd', 'ce', 'cf']\n",
      "['ad', 'ae', 'af', 'bd', 'be', 'bf', 'cd', 'ce', 'cf']\n",
      "---\n",
      "\n",
      "[]\n",
      "[]\n",
      "---\n",
      "2\n",
      "['a', 'b', 'c']\n",
      "['a', 'b', 'c']\n",
      "---\n"
     ]
    }
   ],
   "source": [
    "from typing import List\n",
    "from itertools import product\n",
    "\n",
    "\n",
    "class Solution:\n",
    "    MAPPING = {\n",
    "        \"2\": \"abc\",\n",
    "        \"3\": \"def\",\n",
    "        \"4\": \"ghi\",\n",
    "        \"5\": \"jkl\",\n",
    "        \"6\": \"mno\",\n",
    "        \"7\": \"pqrs\",\n",
    "        \"8\": \"tuv\",\n",
    "        \"9\": \"wxyz\",\n",
    "    }\n",
    "\n",
    "    def letterCombinations(self, digits: str) -> List[str]:\n",
    "        # digits[i] is in [2-9]\n",
    "        # 0 <= len(digits) <= 4\n",
    "        possible_letters = []\n",
    "\n",
    "        for digit in digits:\n",
    "            digit_letters = self.MAPPING[digit]\n",
    "            possible_letters.append(digit_letters)\n",
    "\n",
    "        combinations =  [\"\".join(letters) for letters in product(*possible_letters)]\n",
    "        return [combo for combo in combinations if combo]\n",
    "\n",
    "\n",
    "#####\n",
    "\n",
    "for in_, out in test_cases:\n",
    "    print(in_)\n",
    "    print(out)\n",
    "    result = Solution().letterCombinations(in_)\n",
    "    print(result)\n",
    "    print(\"---\")"
   ]
  }
 ],
 "metadata": {
  "kernelspec": {
   "display_name": "py311",
   "language": "python",
   "name": "python3"
  },
  "language_info": {
   "codemirror_mode": {
    "name": "ipython",
    "version": 3
   },
   "file_extension": ".py",
   "mimetype": "text/x-python",
   "name": "python",
   "nbconvert_exporter": "python",
   "pygments_lexer": "ipython3",
   "version": "3.11.3"
  },
  "orig_nbformat": 4
 },
 "nbformat": 4,
 "nbformat_minor": 2
}

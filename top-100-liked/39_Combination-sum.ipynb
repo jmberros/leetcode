{
 "cells": [
  {
   "cell_type": "markdown",
   "metadata": {},
   "source": [
    "https://leetcode.com/problems/combination-sum/?envType=study-plan-v2&envId=top-100-liked"
   ]
  },
  {
   "cell_type": "code",
   "execution_count": 18,
   "metadata": {},
   "outputs": [],
   "source": [
    "test_cases = [\n",
    "    (\n",
    "        dict(candidates = [2,3,6,7], target = 7),\n",
    "        [[2,2,3],[7]],\n",
    "    ),\n",
    "    (\n",
    "        dict(candidates = [2,3,5], target = 8),\n",
    "        [[2,2,2,2],[2,3,3],[3,5]],\n",
    "    ),\n",
    "    (\n",
    "        dict(candidates = [2], target = 1),\n",
    "        [],\n",
    "    ),\n",
    "    (\n",
    "        dict(candidates = [6,36,34,20,12,18,27,28,7,37,19,30,8,2,35,39], target = 25),\n",
    "        [\"some output\"]\n",
    "    ),\n",
    "    (\n",
    "        dict(candidates = [8,10,9,32,25,27,22,38,15,5,3,26,30,11,21,36,37], target = 39),\n",
    "        [\"some output\"],\n",
    "    )\n",
    "]"
   ]
  },
  {
   "cell_type": "code",
   "execution_count": 53,
   "metadata": {},
   "outputs": [
    {
     "name": "stdout",
     "output_type": "stream",
     "text": [
      "in_ = {'candidates': [2, 3, 6, 7], 'target': 7}\n",
      "_\n",
      "result = [[2, 2, 3], [7]]\n",
      "out = [[2, 2, 3], [7]]\n",
      "---\n",
      "in_ = {'candidates': [2, 3, 5], 'target': 8}\n",
      "_\n",
      "result = [[2, 2, 2, 2], [2, 3, 3], [3, 5]]\n",
      "out = [[2, 2, 2, 2], [2, 3, 3], [3, 5]]\n",
      "---\n",
      "in_ = {'candidates': [2], 'target': 1}\n",
      "_\n",
      "result = []\n",
      "out = []\n",
      "---\n",
      "in_ = {'candidates': [6, 36, 34, 20, 12, 18, 27, 28, 7, 37, 19, 30, 8, 2, 35, 39], 'target': 25}\n",
      "_\n",
      "result = [[6, 6, 6, 7], [2, 2, 2, 6, 6, 7], [6, 7, 12], [2, 2, 6, 7, 8], [2, 2, 2, 2, 2, 2, 6, 7], [6, 19], [2, 2, 2, 7, 12], [7, 18], [2, 2, 7, 7, 7], [2, 7, 8, 8], [2, 2, 2, 2, 2, 7, 8], [2, 2, 2, 2, 2, 2, 2, 2, 2, 7], [2, 2, 2, 19]]\n",
      "out = ['some output']\n",
      "---\n",
      "in_ = {'candidates': [8, 10, 9, 32, 25, 27, 22, 38, 15, 5, 3, 26, 30, 11, 21, 36, 37], 'target': 39}\n",
      "_\n",
      "result = [[5, 8, 8, 8, 10], [3, 3, 8, 8, 8, 9], [8, 8, 8, 15], [5, 5, 5, 8, 8, 8], [3, 3, 3, 3, 3, 8, 8, 8], [3, 8, 8, 10, 10], [3, 5, 5, 8, 8, 10], [5, 8, 8, 9, 9], [3, 3, 3, 5, 8, 8, 9], [3, 8, 8, 9, 11], [3, 5, 8, 8, 15], [3, 5, 5, 5, 5, 8, 8], [3, 3, 3, 3, 3, 3, 5, 8, 8], [3, 3, 3, 3, 8, 8, 11], [3, 3, 5, 8, 10, 10], [8, 10, 10, 11], [3, 8, 9, 9, 10], [3, 3, 3, 3, 8, 9, 10], [3, 3, 8, 10, 15], [3, 3, 5, 5, 5, 8, 10], [5, 5, 8, 10, 11], [3, 3, 3, 3, 3, 3, 3, 8, 10], [8, 10, 21], [3, 5, 5, 8, 9, 9], [8, 9, 22], [3, 3, 3, 3, 5, 5, 8, 9], [3, 3, 5, 8, 9, 11], [8, 9, 11, 11], [3, 3, 8, 25], [3, 3, 3, 8, 22], [3, 3, 5, 5, 8, 15], [5, 8, 11, 15], [3, 3, 5, 5, 5, 5, 5, 8], [5, 5, 5, 5, 8, 11], [3, 3, 3, 3, 3, 3, 3, 5, 5, 8], [5, 5, 8, 21], [3, 3, 3, 3, 3, 5, 8, 11], [5, 8, 26], [3, 3, 3, 8, 11, 11], [9, 10, 10, 10], [3, 3, 3, 10, 10, 10], [5, 5, 9, 10, 10], [3, 3, 3, 5, 5, 10, 10], [3, 5, 10, 10, 11], [3, 3, 5, 9, 9, 10], [9, 9, 10, 11], [5, 9, 10, 15], [5, 5, 5, 5, 9, 10], [3, 3, 3, 3, 3, 5, 9, 10], [3, 3, 3, 9, 10, 11], [3, 3, 3, 5, 10, 15], [3, 10, 11, 15], [3, 3, 3, 5, 5, 5, 5, 10], [3, 5, 5, 5, 10, 11], [3, 3, 3, 3, 3, 3, 3, 3, 5, 10], [3, 5, 10, 21], [3, 3, 3, 3, 3, 3, 10, 11], [3, 10, 26], [3, 9, 9, 9, 9], [3, 3, 3, 3, 9, 9, 9], [3, 3, 9, 9, 15], [3, 3, 5, 5, 5, 9, 9], [5, 5, 9, 9, 11], [3, 3, 3, 3, 3, 3, 3, 9, 9], [9, 9, 21], [5, 9, 25], [3, 9, 27], [3, 5, 9, 22], [9, 15, 15], [5, 5, 5, 9, 15], [3, 3, 3, 3, 3, 9, 15], [5, 5, 5, 5, 5, 5, 9], [3, 3, 3, 3, 3, 5, 5, 5, 9], [3, 3, 3, 5, 5, 9, 11], [3, 5, 9, 11, 11], [3, 3, 3, 3, 3, 3, 3, 3, 3, 3, 9], [3, 3, 3, 9, 21], [9, 30], [3, 3, 3, 5, 25], [3, 11, 25], [3, 3, 3, 3, 27], [3, 3, 3, 3, 5, 22], [3, 3, 11, 22], [3, 3, 3, 15, 15], [3, 3, 3, 5, 5, 5, 15], [3, 5, 5, 11, 15], [3, 3, 3, 3, 3, 3, 3, 3, 15], [3, 15, 21], [3, 3, 3, 5, 5, 5, 5, 5, 5], [3, 5, 5, 5, 5, 5, 11], [3, 3, 3, 3, 3, 3, 3, 3, 5, 5, 5], [3, 5, 5, 5, 21], [3, 3, 3, 3, 3, 3, 5, 5, 11], [3, 5, 5, 26], [3, 3, 3, 3, 5, 11, 11], [3, 3, 3, 3, 3, 3, 3, 3, 3, 3, 3, 3, 3], [3, 3, 3, 3, 3, 3, 21], [3, 3, 3, 30], [3, 3, 11, 11, 11], [3, 36]]\n",
      "out = ['some output']\n",
      "---\n"
     ]
    }
   ],
   "source": [
    "from typing import List\n",
    "\n",
    "\n",
    "# This solution works but it takes too much time and memory it seems:\n",
    "\n",
    "\n",
    "class Solution:\n",
    "    def combinationSum(self, candidates: List[int], target: int) -> List[List[int]]:\n",
    "        # Constrains:\n",
    "        # candidates has *distinct* integers\n",
    "        # 2 <= candidates[i] <= 40\n",
    "        # 1 <= len(candidates) <= 30\n",
    "        # 1 <= target <= 40\n",
    "        unique_solutions = []\n",
    "        for solution in self.recursive_search_for_sum(candidates, target, path=[]):\n",
    "            sorted_solution = sorted(solution)\n",
    "            if sorted_solution not in unique_solutions:\n",
    "                unique_solutions.append(sorted_solution)\n",
    "                assert sum(sorted_solution) == target\n",
    "        return unique_solutions\n",
    "\n",
    "\n",
    "    def recursive_search_for_sum(self, candidates: List[int], target: int, path: List[int]):\n",
    "        solutions = []\n",
    "\n",
    "        for candidate in candidates:\n",
    "            if candidate > target:  # this path can be discarded\n",
    "                pass\n",
    "            elif candidate == target:\n",
    "                solutions += [path + [candidate]]\n",
    "            elif candidate < target:  # the path continues\n",
    "                \n",
    "                remainder = target - candidate\n",
    "                solutions += self.recursive_search_for_sum(candidates, target=remainder, path=path + [candidate])\n",
    "\n",
    "        return solutions\n",
    "    \n",
    "\n",
    "                \n",
    "#####\n",
    "\n",
    "for in_, out in test_cases:\n",
    "    print(f\"{in_ = }\")\n",
    "    result = Solution().combinationSum(**in_)\n",
    "    print(\"_\")\n",
    "    print(f\"{result = }\")\n",
    "    print(f\"{out = }\")\n",
    "    print(\"---\")"
   ]
  },
  {
   "cell_type": "code",
   "execution_count": null,
   "metadata": {},
   "outputs": [],
   "source": []
  },
  {
   "cell_type": "code",
   "execution_count": null,
   "metadata": {},
   "outputs": [],
   "source": []
  },
  {
   "cell_type": "code",
   "execution_count": null,
   "metadata": {},
   "outputs": [],
   "source": []
  },
  {
   "cell_type": "code",
   "execution_count": null,
   "metadata": {},
   "outputs": [],
   "source": []
  },
  {
   "cell_type": "code",
   "execution_count": null,
   "metadata": {},
   "outputs": [],
   "source": []
  },
  {
   "cell_type": "code",
   "execution_count": null,
   "metadata": {},
   "outputs": [],
   "source": []
  },
  {
   "cell_type": "code",
   "execution_count": null,
   "metadata": {},
   "outputs": [],
   "source": []
  },
  {
   "cell_type": "code",
   "execution_count": null,
   "metadata": {},
   "outputs": [],
   "source": []
  },
  {
   "cell_type": "code",
   "execution_count": null,
   "metadata": {},
   "outputs": [],
   "source": []
  }
 ],
 "metadata": {
  "kernelspec": {
   "display_name": "py311",
   "language": "python",
   "name": "python3"
  },
  "language_info": {
   "codemirror_mode": {
    "name": "ipython",
    "version": 3
   },
   "file_extension": ".py",
   "mimetype": "text/x-python",
   "name": "python",
   "nbconvert_exporter": "python",
   "pygments_lexer": "ipython3",
   "version": "3.11.3"
  },
  "orig_nbformat": 4
 },
 "nbformat": 4,
 "nbformat_minor": 2
}

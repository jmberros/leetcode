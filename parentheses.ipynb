{
 "cells": [
  {
   "cell_type": "markdown",
   "metadata": {},
   "source": [
    "Given n pairs of parentheses, write a function to generate all combinations of well-formed parentheses.\n",
    "\n",
    " \n",
    "\n",
    "Example 1:\n",
    "\n",
    "Input: `n = 3`\n",
    "\n",
    "Output: `[\"((()))\",\"(()())\",\"(())()\",\"()(())\",\"()()()\"]`\n",
    "\n",
    "Example 2:\n",
    "\n",
    "Input: `n = 1`\n",
    "\n",
    "Output: `[\"()\"]`\n",
    "\n",
    "Constraints:\n",
    "\n",
    "    1 <= n <= 8\n",
    "\n"
   ]
  },
  {
   "cell_type": "code",
   "execution_count": 3,
   "metadata": {},
   "outputs": [],
   "source": [
    "test_cases = [\n",
    "    (\n",
    "        3,\n",
    "        [\"((()))\",\"(()())\",\"(())()\",\"()(())\",\"()()()\"],\n",
    "    ),\n",
    "    (\n",
    "        1,\n",
    "        [\"()\"],\n",
    "    )\n",
    "]"
   ]
  },
  {
   "cell_type": "code",
   "execution_count": null,
   "metadata": {},
   "outputs": [],
   "source": [
    "from itertools import combinations\n",
    "\n",
    "\n",
    "n = 3\n",
    "result_size = n * 2\n",
    "slots_for_opening_parentheses = list(range(result_size - 1))\n",
    "\n",
    "list()"
   ]
  },
  {
   "cell_type": "code",
   "execution_count": 22,
   "metadata": {},
   "outputs": [
    {
     "name": "stdout",
     "output_type": "stream",
     "text": [
      "3\n",
      "['((()))', '(()())', '(())()', '()(())', '()()()']\n",
      "['((()))', '(()())', '(())()', '()(())', '()()()']\n",
      "---\n",
      "1\n",
      "['()']\n",
      "['()']\n",
      "---\n"
     ]
    }
   ],
   "source": [
    "from typing import List\n",
    "from itertools import combinations\n",
    "\n",
    "# ! Disclaimer:\n",
    "# This solution is quite ugly.\n",
    "\n",
    "class Solution:\n",
    "    def generateParenthesis(self, n: int) -> List[str]:\n",
    "        results = []\n",
    "        result_size = n * 2\n",
    "        slots_for_opening_parentheses = list(range(result_size - 1))\n",
    "\n",
    "        for opening_parens_index in combinations(slots_for_opening_parentheses, n):\n",
    "            result = [\" \"] * result_size\n",
    "            opened_count = 0\n",
    "            valid_combo = True\n",
    "\n",
    "            for i in range(result_size):\n",
    "                if i in opening_parens_index:\n",
    "                    result[i] = \"(\"\n",
    "                    opened_count += 1\n",
    "                else:\n",
    "                    opened_count -= 1\n",
    "                    result[i] = \")\"\n",
    "\n",
    "                if opened_count < 0:\n",
    "                    valid_combo = False\n",
    "\n",
    "            if valid_combo:\n",
    "                results.append(\"\".join(result))\n",
    "\n",
    "        return results\n",
    "            \n",
    "\n",
    "####\n",
    "\n",
    "for test_case in test_cases:\n",
    "    in_, out_ = test_case\n",
    "    result = Solution().generateParenthesis(in_)\n",
    "    print(in_)\n",
    "    print(out_)\n",
    "    print(result)\n",
    "    print(\"---\")"
   ]
  },
  {
   "cell_type": "code",
   "execution_count": null,
   "metadata": {},
   "outputs": [],
   "source": []
  },
  {
   "cell_type": "code",
   "execution_count": null,
   "metadata": {},
   "outputs": [],
   "source": []
  },
  {
   "cell_type": "code",
   "execution_count": null,
   "metadata": {},
   "outputs": [],
   "source": []
  },
  {
   "cell_type": "code",
   "execution_count": null,
   "metadata": {},
   "outputs": [],
   "source": []
  },
  {
   "cell_type": "code",
   "execution_count": null,
   "metadata": {},
   "outputs": [],
   "source": []
  },
  {
   "cell_type": "code",
   "execution_count": null,
   "metadata": {},
   "outputs": [],
   "source": []
  },
  {
   "cell_type": "code",
   "execution_count": null,
   "metadata": {},
   "outputs": [],
   "source": []
  },
  {
   "cell_type": "code",
   "execution_count": null,
   "metadata": {},
   "outputs": [],
   "source": []
  }
 ],
 "metadata": {
  "kernelspec": {
   "display_name": "py311",
   "language": "python",
   "name": "python3"
  },
  "language_info": {
   "codemirror_mode": {
    "name": "ipython",
    "version": 3
   },
   "file_extension": ".py",
   "mimetype": "text/x-python",
   "name": "python",
   "nbconvert_exporter": "python",
   "pygments_lexer": "ipython3",
   "version": "3.11.3"
  },
  "orig_nbformat": 4
 },
 "nbformat": 4,
 "nbformat_minor": 2
}

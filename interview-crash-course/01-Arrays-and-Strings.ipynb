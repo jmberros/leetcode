{
 "cells": [
  {
   "cell_type": "code",
   "execution_count": 139,
   "metadata": {},
   "outputs": [],
   "source": [
    "def run_test_cases(test_cases, fun):\n",
    "    for *in_, exp in test_cases:\n",
    "        in_ = tuple(in_)\n",
    "        print(f\"{in_ = }\")\n",
    "        out = fun(**in_[0]) if isinstance(in_[0], dict) else fun(*in_)\n",
    "        print(f\"{out = }\")\n",
    "        print(f\"{exp = }\")\n",
    "        print(\"--\")"
   ]
  },
  {
   "cell_type": "markdown",
   "metadata": {},
   "source": [
    "# Reverse String"
   ]
  },
  {
   "cell_type": "markdown",
   "metadata": {},
   "source": [
    "\n",
    "Write a function that reverses a string. The input string is given as an array of characters s.\n",
    "\n",
    "You must do this by modifying the input array in-place with O(1) extra memory.\n",
    "\n",
    "https://leetcode.com/problems/reverse-string/editorial/\n",
    "\n",
    "Example 1:\n",
    "```\n",
    "Input: s = [\"h\",\"e\",\"l\",\"l\",\"o\"]\n",
    "Output: [\"o\",\"l\",\"l\",\"e\",\"h\"]\n",
    "```\n",
    "Example 2:\n",
    "```\n",
    "Input: s = [\"H\",\"a\",\"n\",\"n\",\"a\",\"h\"]\n",
    "Output: [\"h\",\"a\",\"n\",\"n\",\"a\",\"H\"]\n",
    "```\n",
    "\n",
    "Constraints:\n",
    "```\n",
    "    1 <= s.length <= 105\n",
    "    s[i] is a printable ascii character.\n",
    "\n",
    "```"
   ]
  },
  {
   "cell_type": "code",
   "execution_count": 64,
   "metadata": {},
   "outputs": [],
   "source": [
    "test_cases = [\n",
    "    (\n",
    "        [\"h\",\"e\",\"l\",\"l\",\"o\"],\n",
    "        [\"o\",\"l\",\"l\",\"e\",\"h\"],\n",
    "    ),\n",
    "    (\n",
    "        [\"H\",\"a\",\"n\",\"n\",\"a\",\"h\"],\n",
    "        [\"h\",\"a\",\"n\",\"n\",\"a\",\"H\"],\n",
    "    )\n",
    "]"
   ]
  },
  {
   "cell_type": "code",
   "execution_count": 65,
   "metadata": {},
   "outputs": [
    {
     "name": "stdout",
     "output_type": "stream",
     "text": [
      "['h', 'e', 'l', 'l', 'o']\n",
      "['o', 'l', 'l', 'e', 'h']\n",
      "['o', 'l', 'l', 'e', 'h']\n",
      "--\n",
      "['H', 'a', 'n', 'n', 'a', 'h']\n",
      "['h', 'a', 'n', 'n', 'a', 'H']\n",
      "['h', 'a', 'n', 'n', 'a', 'H']\n",
      "--\n"
     ]
    }
   ],
   "source": [
    "from typing import List\n",
    "\n",
    "\n",
    "# Time complexity: O(N), swaps N/2 times\n",
    "# Space complexity: O(1)\n",
    "class Solution:\n",
    "    def reverseString(self, s: List[str]) -> None:\n",
    "        \"\"\"\n",
    "        Do not return anything, modify s in-place instead.\n",
    "        \"\"\"\n",
    "        left = 0\n",
    "        right = len(s) - 1\n",
    "        while left < right:\n",
    "            s[left], s[right] = s[right], s[left]\n",
    "            left += 1\n",
    "            right -= 1\n",
    "\n",
    "####\n",
    "\n",
    "for in_, expected in test_cases:\n",
    "    in_ = list(in_)\n",
    "    print(in_)\n",
    "    Solution().reverseString(in_)\n",
    "    print(in_)\n",
    "    print(expected)\n",
    "    print(\"--\")"
   ]
  },
  {
   "cell_type": "code",
   "execution_count": 66,
   "metadata": {},
   "outputs": [
    {
     "name": "stdout",
     "output_type": "stream",
     "text": [
      "['o', 'l', 'l', 'e', 'h']\n"
     ]
    }
   ],
   "source": [
    "# Of course, you can always do:\n",
    "\n",
    "from typing import List\n",
    "\n",
    "\n",
    "class Solution:\n",
    "    def reverseString(self, s: List[str]) -> None:\n",
    "        \"\"\"\n",
    "        Do not return anything, modify s in-place instead.\n",
    "        \"\"\"\n",
    "        s.reverse()\n",
    "\n",
    "in_ = list(\"hello\")\n",
    "Solution().reverseString(in_)\n",
    "print(in_)"
   ]
  },
  {
   "cell_type": "markdown",
   "metadata": {},
   "source": [
    "# Squares of a Sorted Array"
   ]
  },
  {
   "cell_type": "markdown",
   "metadata": {},
   "source": [
    "\n",
    "https://leetcode.com/problems/squares-of-a-sorted-array/editorial/\n",
    "\n",
    "- Given an integer array `nums` sorted in non-decreasing order,\n",
    "- return an array of the squares of each number sorted in non-decreasing order.\n",
    "\n",
    "```\n",
    "Example 1:\n",
    "\n",
    "Input: nums = [-4,-1,0,3,10]\n",
    "Output: [0,1,9,16,100]\n",
    "Explanation: After squaring, the array becomes [16,1,0,9,100].\n",
    "After sorting, it becomes [0,1,9,16,100].\n",
    "\n",
    "Example 2:\n",
    "\n",
    "Input: nums = [-7,-3,2,3,11]\n",
    "Output: [4,9,9,49,121]\n",
    "\n",
    "``` \n",
    "\n",
    "Constraints:\n",
    "```\n",
    "    1 <= nums.length <= 104\n",
    "    -104 <= nums[i] <= 104\n",
    "    nums is sorted in non-decreasing order.\n",
    "\n",
    "``` \n",
    "Follow up: Squaring each element and sorting the new array is very trivial, could you find an O(n) solution using a different approach?"
   ]
  },
  {
   "cell_type": "code",
   "execution_count": 67,
   "metadata": {},
   "outputs": [],
   "source": [
    "test_cases = [\n",
    "    (\n",
    "        [-4,-1,0,3,10],\n",
    "        [0,1,9,16,100]\n",
    "    ),\n",
    "    (\n",
    "        [-7,-3,2,3,11],\n",
    "        [4,9,9,49,121],\n",
    "    )\n",
    "]"
   ]
  },
  {
   "cell_type": "code",
   "execution_count": 89,
   "metadata": {},
   "outputs": [
    {
     "name": "stdout",
     "output_type": "stream",
     "text": [
      "in_ = [[-4, -1, 0, 3, 10]]\n",
      "out = [0, 1, 9, 16, 100]\n",
      "exp = [0, 1, 9, 16, 100]\n",
      "--\n",
      "in_ = [[-7, -3, 2, 3, 11]]\n",
      "out = [4, 9, 9, 49, 121]\n",
      "exp = [4, 9, 9, 49, 121]\n",
      "--\n"
     ]
    }
   ],
   "source": [
    "class Solution:\n",
    "    def sortedSquares(self, nums: List[int]) -> List[int]:\n",
    "        # Contraints:\n",
    "        # `nums` is sorted in non-decreasing order\n",
    "        # 1 <= nums.length <= 104\n",
    "        # -104 <= nums[i] <= 104\n",
    "        # nums is sorted in non-decreasing order.\n",
    "        # return an array of the squares of each number sorted in non-decreasing order\n",
    "        neg_squares = []\n",
    "        pos_squares = []\n",
    "        for i, num in enumerate(nums):  # O(n)\n",
    "            (neg_squares if num < 0 else pos_squares).append(num**2)\n",
    "\n",
    "        result = []\n",
    "        neg_i = len(neg_squares) - 1\n",
    "        pos_i = 0\n",
    "        while neg_i >= 0 and pos_i < len(pos_squares):  # O(n)\n",
    "            if neg_squares[neg_i] < pos_squares[pos_i]:\n",
    "                result.append(neg_squares[neg_i])\n",
    "                neg_i -= 1\n",
    "            else:\n",
    "                result.append(pos_squares[pos_i])\n",
    "                pos_i += 1\n",
    "\n",
    "        while neg_i >= 0:\n",
    "            result.append(neg_squares[neg_i])\n",
    "            neg_i -= 1\n",
    "\n",
    "        while pos_i < len(pos_squares):\n",
    "            result.append(pos_squares[pos_i])\n",
    "            pos_i += 1\n",
    "           \n",
    "        return result\n",
    "\n",
    "####\n",
    "run_test_cases(test_cases, Solution().sortedSquares)"
   ]
  },
  {
   "cell_type": "code",
   "execution_count": 96,
   "metadata": {},
   "outputs": [
    {
     "name": "stdout",
     "output_type": "stream",
     "text": [
      "in_ = [[-4, -1, 0, 3, 10]]\n",
      "out = [0, 1, 9, 16, 100]\n",
      "exp = [0, 1, 9, 16, 100]\n",
      "--\n",
      "in_ = [[-7, -3, 2, 3, 11]]\n",
      "out = [4, 9, 9, 49, 121]\n",
      "exp = [4, 9, 9, 49, 121]\n",
      "--\n"
     ]
    }
   ],
   "source": [
    "# Of course, the O(N log N) solution:\n",
    "class Solution:\n",
    "    def sortedSquares(self, nums: List[int]) -> List[int]:\n",
    "        return sorted(num**2 for num in nums)\n",
    "    \n",
    "####\n",
    "run_test_cases(test_cases, Solution().sortedSquares)"
   ]
  },
  {
   "cell_type": "code",
   "execution_count": 98,
   "metadata": {},
   "outputs": [
    {
     "name": "stdout",
     "output_type": "stream",
     "text": [
      "in_ = [[-4, -1, 0, 3, 10]]\n",
      "out = [0, 1, 9, 16, 100]\n",
      "exp = [0, 1, 9, 16, 100]\n",
      "--\n",
      "in_ = [[-7, -3, 2, 3, 11]]\n",
      "out = [4, 9, 9, 49, 121]\n",
      "exp = [4, 9, 9, 49, 121]\n",
      "--\n"
     ]
    }
   ],
   "source": [
    "# Smarter, from the editorial solution\n",
    "class Solution:\n",
    "    def sortedSquares(self, nums: List[int]) -> List[int]:\n",
    "        n = len(nums)\n",
    "        left = 0\n",
    "        right = n - 1\n",
    "        result = [None] * n\n",
    "\n",
    "        # ! Populating the result from the end, since we have decreasing squares\n",
    "        # This involves creating an empty array of the appropriate length first\n",
    "        for i in range(n - 1, -1, -1):\n",
    "            if abs(nums[left]) < abs(nums[right]):\n",
    "                square = nums[right]**2\n",
    "                right -= 1\n",
    "            else:\n",
    "                square = nums[left]**2\n",
    "                left += 1\n",
    "            result[i] = square\n",
    "\n",
    "        return result\n",
    "        \n",
    "    \n",
    "####\n",
    "run_test_cases(test_cases, Solution().sortedSquares)"
   ]
  },
  {
   "cell_type": "markdown",
   "metadata": {},
   "source": [
    "# Maximum Average Subarray I\n"
   ]
  },
  {
   "cell_type": "markdown",
   "metadata": {},
   "source": [
    "\n",
    "https://leetcode.com/problems/maximum-average-subarray-i/editorial/\n",
    "\n",
    "- You are given an integer array `nums` consisting of `n` elements, and an integer `k`.\n",
    "- Find a contiguous subarray whose length is equal to `k`\n",
    "  - that has the maximum average value and return this value.\n",
    "- Any answer with a calculation error less than 10-5 will be accepted.\n",
    "\n",
    "```\n",
    "Example 1:\n",
    "\n",
    "Input: nums = [1,12,-5,-6,50,3], k = 4\n",
    "Output: 12.75000\n",
    "Explanation: Maximum average is (12 - 5 - 6 + 50) / 4 = 51 / 4 = 12.75\n",
    "\n",
    "Example 2:\n",
    "\n",
    "Input: nums = [5], k = 1\n",
    "Output: 5.00000\n",
    "\n",
    "``` \n",
    "\n",
    "Constraints:\n",
    "```\n",
    "    n == nums.length\n",
    "    1 <= k <= n <= 105\n",
    "    -104 <= nums[i] <= 104\n",
    "\n",
    "```"
   ]
  },
  {
   "cell_type": "code",
   "execution_count": 113,
   "metadata": {},
   "outputs": [],
   "source": [
    "test_cases = [\n",
    "    (\n",
    "        dict(nums = [1,12,-5,-6,50,3], k = 4),\n",
    "        12.75000,\n",
    "    ),\n",
    "    (\n",
    "        dict(nums = [5], k = 1),\n",
    "        5.00000,\n",
    "    ),\n",
    "    (\n",
    "        dict(nums = [0,1,1,3,3], k = 4),\n",
    "        2.00000,\n",
    "    )\n",
    "]"
   ]
  },
  {
   "cell_type": "code",
   "execution_count": 117,
   "metadata": {},
   "outputs": [
    {
     "name": "stdout",
     "output_type": "stream",
     "text": [
      "in_ = [{'nums': [1, 12, -5, -6, 50, 3], 'k': 4}]\n",
      "out = 12.75\n",
      "exp = 12.75\n",
      "--\n",
      "in_ = [{'nums': [5], 'k': 1}]\n",
      "out = 5.0\n",
      "exp = 5.0\n",
      "--\n",
      "in_ = [{'nums': [0, 1, 1, 3, 3], 'k': 4}]\n",
      "out = 2.0\n",
      "exp = 2.0\n",
      "--\n"
     ]
    }
   ],
   "source": [
    "class Solution:\n",
    "    def findMaxAverage(self, nums: List[int], k: int) -> float:\n",
    "        # calculate the first k-window average\n",
    "        sum_ = 0\n",
    "        for i in range(k):\n",
    "            sum_ += nums[i]\n",
    "        \n",
    "        # slide removing one element from the left and adding one to the right\n",
    "        max_sum = sum_\n",
    "        for i in range(k, len(nums)):\n",
    "            sum_ = sum_ + nums[i] - nums[i - k]\n",
    "            max_sum = max(max_sum, sum_)\n",
    "        \n",
    "        return max_sum/k\n",
    "\n",
    "\n",
    "run_test_cases(test_cases, Solution().findMaxAverage)"
   ]
  },
  {
   "cell_type": "markdown",
   "metadata": {},
   "source": [
    "# Max Consecutive Ones III\n"
   ]
  },
  {
   "cell_type": "markdown",
   "metadata": {},
   "source": [
    "- Given a binary array `nums` and an integer `k`,\n",
    "- return the maximum number of consecutive `1`'s in the array\n",
    "  - if you can flip at most `k` `0`'s.\n",
    " \n",
    "```\n",
    "Example 1:\n",
    "\n",
    "Input: nums = [1,1,1,0,0,0,1,1,1,1,0], k = 2\n",
    "Output: 6\n",
    "Explanation: [1,1,1,0,0,1,1,1,1,1,1]\n",
    "Bolded numbers were flipped from 0 to 1. The longest subarray is underlined.\n",
    "\n",
    "Example 2:\n",
    "\n",
    "Input: nums = [0,0,1,1,0,0,1,1,1,0,1,1,0,0,0,1,1,1,1], k = 3\n",
    "Output: 10\n",
    "Explanation: [0,0,1,1,1,1,1,1,1,1,1,1,0,0,0,1,1,1,1]\n",
    "Bolded numbers were flipped from 0 to 1. The longest subarray is underlined.\n",
    "\n",
    "``` \n",
    "\n",
    "Constraints:\n",
    "```\n",
    "    1 <= nums.length <= 105\n",
    "    nums[i] is either 0 or 1.\n",
    "    0 <= k <= nums.length\n",
    "\n",
    "```"
   ]
  },
  {
   "cell_type": "code",
   "execution_count": 120,
   "metadata": {},
   "outputs": [],
   "source": [
    "test_cases = [\n",
    "    (\n",
    "        dict(nums = [1,1,1,0,0,0,1,1,1,1,0], k = 2),\n",
    "        6,\n",
    "    ),\n",
    "    (\n",
    "        dict(nums = [0,0,1,1,0,0,1,1,1,0,1,1,0,0,0,1,1,1,1], k = 3),\n",
    "        10,\n",
    "    )\n",
    "]"
   ]
  },
  {
   "cell_type": "code",
   "execution_count": 136,
   "metadata": {},
   "outputs": [
    {
     "name": "stdout",
     "output_type": "stream",
     "text": [
      "in_ = [{'nums': [1, 1, 1, 0, 0, 0, 1, 1, 1, 1, 0], 'k': 2}]\n",
      "out = 6\n",
      "exp = 6\n",
      "--\n",
      "in_ = [{'nums': [0, 0, 1, 1, 0, 0, 1, 1, 1, 0, 1, 1, 0, 0, 0, 1, 1, 1, 1], 'k': 3}]\n",
      "out = 10\n",
      "exp = 10\n",
      "--\n"
     ]
    }
   ],
   "source": [
    "# def show_window(nums, left, right, zeros_in_window):\n",
    "#     print(f\"{left}, {right} -> {'   ' * left}{nums[left:right + 1]} => {zeros_in_window} zeros, length: {right - left + 1}\")\n",
    "\n",
    "# Time: O(n) -- We traverse every element of the array twice (once per index), O(2n) = O(n)\n",
    "# Space: O(1) -- We don't use extra space\n",
    "\n",
    "# ! Remember: a while loop to move the left index inside the for loop that moves the right index\n",
    "\n",
    "class Solution:\n",
    "    def longestOnes(self, nums: List[int], k: int) -> int:\n",
    "        left = 0\n",
    "        max_length = 0\n",
    "        zeros_in_window = 0\n",
    "        for right in range(len(nums)):  # O(n)\n",
    "            if nums[right] == 0:\n",
    "                zeros_in_window += 1\n",
    "            # show_window(nums, left, right, zeros_in_window)\n",
    "            \n",
    "            # Shrink from the left until it's valid\n",
    "            while zeros_in_window > k:\n",
    "                if nums[left] == 0:\n",
    "                    zeros_in_window -= 1\n",
    "                left += 1\n",
    "                # show_window(nums, left, right, zeros_in_window)\n",
    "\n",
    "            # In this point, the window is valid (i.e. <= k zeros)\n",
    "            window_length = right - left + 1\n",
    "            max_length = max(max_length, window_length)\n",
    "            \n",
    "        return max_length\n",
    "\n",
    "run_test_cases(test_cases, Solution().longestOnes)"
   ]
  },
  {
   "cell_type": "markdown",
   "metadata": {},
   "source": [
    "# Running Sum of 1d Array\n"
   ]
  },
  {
   "cell_type": "markdown",
   "metadata": {},
   "source": [
    "\n",
    "- Given an array `nums`. We define a running sum of an array as `runningSum[i] = sum(nums[0]…nums[i])`.\n",
    "- Return the running sum of `nums`.\n",
    "\n",
    "``` \n",
    "Example 1:\n",
    "\n",
    "Input: nums = [1,2,3,4]\n",
    "Output: [1,3,6,10]\n",
    "Explanation: Running sum is obtained as follows: [1, 1+2, 1+2+3, 1+2+3+4].\n",
    "\n",
    "Example 2:\n",
    "\n",
    "Input: nums = [1,1,1,1,1]\n",
    "Output: [1,2,3,4,5]\n",
    "Explanation: Running sum is obtained as follows: [1, 1+1, 1+1+1, 1+1+1+1, 1+1+1+1+1].\n",
    "\n",
    "Example 3:\n",
    "\n",
    "Input: nums = [3,1,2,10,1]\n",
    "Output: [3,4,6,16,17]\n",
    "```\n",
    " \n",
    "\n",
    "Constraints:\n",
    "```\n",
    "    1 <= nums.length <= 1000\n",
    "    -10^6 <= nums[i] <= 10^6\n",
    "```"
   ]
  },
  {
   "cell_type": "code",
   "execution_count": 140,
   "metadata": {},
   "outputs": [],
   "source": [
    "test_cases = [\n",
    "    (\n",
    "        [1,2,3,4],\n",
    "        [1,3,6,10]\n",
    "    ),\n",
    "    (\n",
    "        [1,1,1,1,1],\n",
    "        [1,2,3,4,5],\n",
    "    ),\n",
    "    (\n",
    "        [3,1,2,10,1],\n",
    "        [3,4,6,16,17],\n",
    "    )\n",
    "]"
   ]
  },
  {
   "cell_type": "code",
   "execution_count": 142,
   "metadata": {},
   "outputs": [
    {
     "name": "stdout",
     "output_type": "stream",
     "text": [
      "in_ = ([1, 2, 3, 4],)\n",
      "out = [1, 3, 6, 10]\n",
      "exp = [1, 3, 6, 10]\n",
      "--\n",
      "in_ = ([1, 1, 1, 1, 1],)\n",
      "out = [1, 2, 3, 4, 5]\n",
      "exp = [1, 2, 3, 4, 5]\n",
      "--\n",
      "in_ = ([3, 1, 2, 10, 1],)\n",
      "out = [3, 4, 6, 16, 17]\n",
      "exp = [3, 4, 6, 16, 17]\n",
      "--\n"
     ]
    }
   ],
   "source": [
    "class Solution:\n",
    "    def runningSum(self, nums: List[int]) -> List[int]:\n",
    "        n = len(nums)\n",
    "        sums = [0] * n\n",
    "\n",
    "        sums[0] = nums[0]\n",
    "        for i in range(1, n):\n",
    "            sums[i] = sums[i - 1] + nums[i]\n",
    "\n",
    "        return sums\n",
    "\n",
    "\n",
    "run_test_cases(test_cases, Solution().runningSum)"
   ]
  },
  {
   "cell_type": "markdown",
   "metadata": {},
   "source": [
    "# Minimum Value to Get Positive Step by Step Sum"
   ]
  },
  {
   "cell_type": "markdown",
   "metadata": {},
   "source": [
    "https://leetcode.com/problems/minimum-value-to-get-positive-step-by-step-sum/editorial/\n",
    "\n",
    "- Given an array of integers `nums`, you start with an initial positive value `startValue`.\n",
    "- In each iteration, you calculate the step by step sum of `startValue` plus elements in `nums` (from left to right).\n",
    "- Return the minimum positive value of `startValue` such that the step by step sum is never less than 1.\n",
    " \n",
    "```\n",
    "Example 1:\n",
    "\n",
    "Input: nums = [-3,2,-3,4,2]\n",
    "Output: 5\n",
    "Explanation: If you choose startValue = 4, in the third iteration your step by step sum is less than 1.\n",
    "step by step sum\n",
    "startValue = 4 | startValue = 5 | nums\n",
    "  (4 -3 ) = 1  | (5 -3 ) = 2    |  -3\n",
    "  (1 +2 ) = 3  | (2 +2 ) = 4    |   2\n",
    "  (3 -3 ) = 0  | (4 -3 ) = 1    |  -3\n",
    "  (0 +4 ) = 4  | (1 +4 ) = 5    |   4\n",
    "  (4 +2 ) = 6  | (5 +2 ) = 7    |   2\n",
    "\n",
    "Example 2:\n",
    "\n",
    "Input: nums = [1,2]\n",
    "Output: 1\n",
    "Explanation: Minimum start value should be positive. \n",
    "\n",
    "Example 3:\n",
    "\n",
    "Input: nums = [1,-2,-3]\n",
    "Output: 5\n",
    "```\n",
    " \n",
    "\n",
    "Constraints:\n",
    "```\n",
    "    1 <= nums.length <= 100\n",
    "    -100 <= nums[i] <= 100\n",
    "```\n"
   ]
  },
  {
   "cell_type": "code",
   "execution_count": 185,
   "metadata": {},
   "outputs": [],
   "source": [
    "test_cases = [\n",
    "    (\n",
    "        [1,2],\n",
    "        1\n",
    "    ),\n",
    "    (\n",
    "        [1,-2,-3],\n",
    "        5\n",
    "    ),\n",
    "    (\n",
    "        [-3,2,-3,4,2],\n",
    "        5,\n",
    "    )\n",
    "]"
   ]
  },
  {
   "cell_type": "code",
   "execution_count": 186,
   "metadata": {},
   "outputs": [
    {
     "name": "stdout",
     "output_type": "stream",
     "text": [
      "in_ = ([1, 2],)\n",
      "out = 1\n",
      "exp = 1\n",
      "--\n",
      "in_ = ([1, -2, -3],)\n",
      "out = 5\n",
      "exp = 5\n",
      "--\n",
      "in_ = ([-3, 2, -3, 4, 2],)\n",
      "out = 5\n",
      "exp = 5\n",
      "--\n"
     ]
    }
   ],
   "source": [
    "# O(n) time\n",
    "# O(1) space\n",
    "class Solution:\n",
    "    # def minStartValue_first_try(self, nums: List[int]) -> int:\n",
    "    #     n = len(nums)\n",
    "    #     running_sum = min_running_sum = nums[0]\n",
    "    #     for i in range(1, n):  # O(n)\n",
    "    #         running_sum += nums[i]\n",
    "    #         min_running_sum = min(min_running_sum, running_sum)\n",
    "    #         # print(f\"{running_sum = }, {min_running_sum = }\")\n",
    "\n",
    "    #     return 1 - min_running_sum if min_running_sum < 1 else 1\n",
    "    \n",
    "    def minStartValue(self, nums: List[int]) -> int:\n",
    "        running_sum = 0\n",
    "        min_running_sum = 0\n",
    "        for num in nums:\n",
    "            running_sum += num\n",
    "            min_running_sum = min(min_running_sum, running_sum)\n",
    "        return max(1 - min_running_sum, 1)\n",
    "\n",
    "run_test_cases(test_cases, Solution().minStartValue)"
   ]
  },
  {
   "cell_type": "markdown",
   "metadata": {},
   "source": [
    "# K Radius Subarray Averages"
   ]
  },
  {
   "cell_type": "markdown",
   "metadata": {},
   "source": [
    "- You are given a 0-indexed array `nums` of `n` integers, and an integer `k`.\n",
    "- The `k`-radius average for a subarray of `nums` centered at some index `i` with the radius `k` is the average of all elements in `nums` between the indices `i - k` and `i + k` (inclusive).\n",
    "- If there are less than `k` elements before or after the index `i`, then the `k`-radius average is `-1`.\n",
    "- Build and return an array `avgs` of length `n` where `avgs[i]` is the `k`-radius average for the subarray centered at index `i`.\n",
    "\n",
    "- The average of x elements is the sum of the x elements divided by x, using integer division.\n",
    "- The integer division truncates toward zero, which means losing its fractional part.\n",
    "\n",
    "    For example, the average of four elements 2, 3, 1, and 5 is (2 + 3 + 1 + 5) / 4 = 11 / 4 = 2.75, which truncates to 2.\n",
    "\n"
   ]
  },
  {
   "cell_type": "code",
   "execution_count": 188,
   "metadata": {},
   "outputs": [],
   "source": [
    "test_cases = [\n",
    "    (\n",
    "        dict(nums = [7,4,3,9,1,8,5,2,6], k = 3),\n",
    "        [-1,-1,-1,5,4,4,-1,-1,-1],\n",
    "    ),\n",
    "    (\n",
    "        dict(nums = [100000], k = 0),\n",
    "        [100000],\n",
    "    ),\n",
    "    (\n",
    "        dict(nums = [8], k = 100000),\n",
    "        [-1],\n",
    "    ),\n",
    "    (\n",
    "        dict(nums = [18334,25764,19780,92480,69842,73255,89893], k = 0),\n",
    "        [18334,25764,19780,92480,69842,73255,89893],\n",
    "    )\n",
    "]"
   ]
  },
  {
   "cell_type": "code",
   "execution_count": 190,
   "metadata": {},
   "outputs": [
    {
     "name": "stdout",
     "output_type": "stream",
     "text": [
      "in_ = ({'nums': [7, 4, 3, 9, 1, 8, 5, 2, 6], 'k': 3},)\n",
      "out = [-1, -1, -1, 5, 4, 4, -1, -1, -1]\n",
      "exp = [-1, -1, -1, 5, 4, 4, -1, -1, -1]\n",
      "--\n",
      "in_ = ({'nums': [100000], 'k': 0},)\n",
      "out = [100000]\n",
      "exp = [100000]\n",
      "--\n",
      "in_ = ({'nums': [8], 'k': 100000},)\n",
      "out = [-1]\n",
      "exp = [-1]\n",
      "--\n",
      "in_ = ({'nums': [18334, 25764, 19780, 92480, 69842, 73255, 89893], 'k': 0},)\n",
      "out = [18334, 25764, 19780, 92480, 69842, 73255, 89893]\n",
      "exp = [18334, 25764, 19780, 92480, 69842, 73255, 89893]\n",
      "--\n"
     ]
    }
   ],
   "source": [
    "# Time: O(n)\n",
    "# Space: O(n)\n",
    "class Solution:\n",
    "    def getAverages(self, nums: List[int], k: int) -> List[int]:\n",
    "        n = len(nums)\n",
    "        prefix_sum = [nums[0]]\n",
    "        for i in range(1, n):\n",
    "            prefix_sum.append(prefix_sum[i - 1] + nums[i])\n",
    "        # print(f\"{prefix_sum = }\")\n",
    "        averages = []\n",
    "        for i in range(n):\n",
    "            left, right = i - k, i + k\n",
    "            # print(f\"{left = }, {right = }\")\n",
    "            if left < 0 or right >= n:\n",
    "                averages.append(-1)\n",
    "                continue\n",
    "\n",
    "            window_sum = prefix_sum[right]\n",
    "            if left > 0:\n",
    "                window_sum = window_sum - prefix_sum[left - 1]  # ! Watch out for this: left - 1\n",
    "            averages.append(window_sum//(2*k + 1))\n",
    "\n",
    "        return averages\n",
    "\n",
    "\n",
    "run_test_cases(test_cases, Solution().getAverages)"
   ]
  },
  {
   "cell_type": "code",
   "execution_count": null,
   "metadata": {},
   "outputs": [],
   "source": []
  },
  {
   "cell_type": "code",
   "execution_count": null,
   "metadata": {},
   "outputs": [],
   "source": []
  },
  {
   "cell_type": "code",
   "execution_count": null,
   "metadata": {},
   "outputs": [],
   "source": []
  },
  {
   "cell_type": "code",
   "execution_count": null,
   "metadata": {},
   "outputs": [],
   "source": []
  },
  {
   "cell_type": "code",
   "execution_count": null,
   "metadata": {},
   "outputs": [],
   "source": []
  },
  {
   "cell_type": "code",
   "execution_count": null,
   "metadata": {},
   "outputs": [],
   "source": []
  },
  {
   "cell_type": "code",
   "execution_count": null,
   "metadata": {},
   "outputs": [],
   "source": []
  },
  {
   "cell_type": "code",
   "execution_count": null,
   "metadata": {},
   "outputs": [],
   "source": []
  },
  {
   "cell_type": "code",
   "execution_count": null,
   "metadata": {},
   "outputs": [],
   "source": []
  },
  {
   "cell_type": "code",
   "execution_count": null,
   "metadata": {},
   "outputs": [],
   "source": []
  },
  {
   "cell_type": "code",
   "execution_count": null,
   "metadata": {},
   "outputs": [],
   "source": []
  },
  {
   "cell_type": "code",
   "execution_count": null,
   "metadata": {},
   "outputs": [],
   "source": []
  },
  {
   "cell_type": "code",
   "execution_count": null,
   "metadata": {},
   "outputs": [],
   "source": []
  },
  {
   "cell_type": "code",
   "execution_count": null,
   "metadata": {},
   "outputs": [],
   "source": []
  },
  {
   "cell_type": "code",
   "execution_count": null,
   "metadata": {},
   "outputs": [],
   "source": []
  },
  {
   "cell_type": "code",
   "execution_count": null,
   "metadata": {},
   "outputs": [],
   "source": []
  },
  {
   "cell_type": "code",
   "execution_count": null,
   "metadata": {},
   "outputs": [],
   "source": []
  },
  {
   "cell_type": "code",
   "execution_count": null,
   "metadata": {},
   "outputs": [],
   "source": []
  },
  {
   "cell_type": "code",
   "execution_count": null,
   "metadata": {},
   "outputs": [],
   "source": []
  }
 ],
 "metadata": {
  "kernelspec": {
   "display_name": "py311",
   "language": "python",
   "name": "python3"
  },
  "language_info": {
   "codemirror_mode": {
    "name": "ipython",
    "version": 3
   },
   "file_extension": ".py",
   "mimetype": "text/x-python",
   "name": "python",
   "nbconvert_exporter": "python",
   "pygments_lexer": "ipython3",
   "version": "3.11.3"
  },
  "orig_nbformat": 4
 },
 "nbformat": 4,
 "nbformat_minor": 2
}

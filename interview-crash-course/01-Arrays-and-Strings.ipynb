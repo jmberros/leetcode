{
 "cells": [
  {
   "cell_type": "code",
   "execution_count": 109,
   "metadata": {},
   "outputs": [],
   "source": [
    "def run_test_cases(test_cases, fun):\n",
    "    for *in_, exp in test_cases:\n",
    "        print(f\"{in_ = }\")\n",
    "        out = fun(**in_[0]) if isinstance(in_[0], dict) else fun(*in_)\n",
    "        print(f\"{out = }\")\n",
    "        print(f\"{exp = }\")\n",
    "        print(\"--\")"
   ]
  },
  {
   "cell_type": "markdown",
   "metadata": {},
   "source": [
    "# Reverse String"
   ]
  },
  {
   "cell_type": "markdown",
   "metadata": {},
   "source": [
    "\n",
    "Write a function that reverses a string. The input string is given as an array of characters s.\n",
    "\n",
    "You must do this by modifying the input array in-place with O(1) extra memory.\n",
    "\n",
    "https://leetcode.com/problems/reverse-string/editorial/\n",
    "\n",
    "Example 1:\n",
    "```\n",
    "Input: s = [\"h\",\"e\",\"l\",\"l\",\"o\"]\n",
    "Output: [\"o\",\"l\",\"l\",\"e\",\"h\"]\n",
    "```\n",
    "Example 2:\n",
    "```\n",
    "Input: s = [\"H\",\"a\",\"n\",\"n\",\"a\",\"h\"]\n",
    "Output: [\"h\",\"a\",\"n\",\"n\",\"a\",\"H\"]\n",
    "```\n",
    "\n",
    "Constraints:\n",
    "```\n",
    "    1 <= s.length <= 105\n",
    "    s[i] is a printable ascii character.\n",
    "\n",
    "```"
   ]
  },
  {
   "cell_type": "code",
   "execution_count": 64,
   "metadata": {},
   "outputs": [],
   "source": [
    "test_cases = [\n",
    "    (\n",
    "        [\"h\",\"e\",\"l\",\"l\",\"o\"],\n",
    "        [\"o\",\"l\",\"l\",\"e\",\"h\"],\n",
    "    ),\n",
    "    (\n",
    "        [\"H\",\"a\",\"n\",\"n\",\"a\",\"h\"],\n",
    "        [\"h\",\"a\",\"n\",\"n\",\"a\",\"H\"],\n",
    "    )\n",
    "]"
   ]
  },
  {
   "cell_type": "code",
   "execution_count": 65,
   "metadata": {},
   "outputs": [
    {
     "name": "stdout",
     "output_type": "stream",
     "text": [
      "['h', 'e', 'l', 'l', 'o']\n",
      "['o', 'l', 'l', 'e', 'h']\n",
      "['o', 'l', 'l', 'e', 'h']\n",
      "--\n",
      "['H', 'a', 'n', 'n', 'a', 'h']\n",
      "['h', 'a', 'n', 'n', 'a', 'H']\n",
      "['h', 'a', 'n', 'n', 'a', 'H']\n",
      "--\n"
     ]
    }
   ],
   "source": [
    "from typing import List\n",
    "\n",
    "\n",
    "# Time complexity: O(N), swaps N/2 times\n",
    "# Space complexity: O(1)\n",
    "class Solution:\n",
    "    def reverseString(self, s: List[str]) -> None:\n",
    "        \"\"\"\n",
    "        Do not return anything, modify s in-place instead.\n",
    "        \"\"\"\n",
    "        left = 0\n",
    "        right = len(s) - 1\n",
    "        while left < right:\n",
    "            s[left], s[right] = s[right], s[left]\n",
    "            left += 1\n",
    "            right -= 1\n",
    "\n",
    "####\n",
    "\n",
    "for in_, expected in test_cases:\n",
    "    in_ = list(in_)\n",
    "    print(in_)\n",
    "    Solution().reverseString(in_)\n",
    "    print(in_)\n",
    "    print(expected)\n",
    "    print(\"--\")"
   ]
  },
  {
   "cell_type": "code",
   "execution_count": 66,
   "metadata": {},
   "outputs": [
    {
     "name": "stdout",
     "output_type": "stream",
     "text": [
      "['o', 'l', 'l', 'e', 'h']\n"
     ]
    }
   ],
   "source": [
    "# Of course, you can always do:\n",
    "\n",
    "from typing import List\n",
    "\n",
    "\n",
    "class Solution:\n",
    "    def reverseString(self, s: List[str]) -> None:\n",
    "        \"\"\"\n",
    "        Do not return anything, modify s in-place instead.\n",
    "        \"\"\"\n",
    "        s.reverse()\n",
    "\n",
    "in_ = list(\"hello\")\n",
    "Solution().reverseString(in_)\n",
    "print(in_)"
   ]
  },
  {
   "cell_type": "markdown",
   "metadata": {},
   "source": [
    "# Squares of a Sorted Array"
   ]
  },
  {
   "cell_type": "markdown",
   "metadata": {},
   "source": [
    "\n",
    "https://leetcode.com/problems/squares-of-a-sorted-array/editorial/\n",
    "\n",
    "- Given an integer array `nums` sorted in non-decreasing order,\n",
    "- return an array of the squares of each number sorted in non-decreasing order.\n",
    "\n",
    "```\n",
    "Example 1:\n",
    "\n",
    "Input: nums = [-4,-1,0,3,10]\n",
    "Output: [0,1,9,16,100]\n",
    "Explanation: After squaring, the array becomes [16,1,0,9,100].\n",
    "After sorting, it becomes [0,1,9,16,100].\n",
    "\n",
    "Example 2:\n",
    "\n",
    "Input: nums = [-7,-3,2,3,11]\n",
    "Output: [4,9,9,49,121]\n",
    "\n",
    "``` \n",
    "\n",
    "Constraints:\n",
    "```\n",
    "    1 <= nums.length <= 104\n",
    "    -104 <= nums[i] <= 104\n",
    "    nums is sorted in non-decreasing order.\n",
    "\n",
    "``` \n",
    "Follow up: Squaring each element and sorting the new array is very trivial, could you find an O(n) solution using a different approach?"
   ]
  },
  {
   "cell_type": "code",
   "execution_count": 67,
   "metadata": {},
   "outputs": [],
   "source": [
    "test_cases = [\n",
    "    (\n",
    "        [-4,-1,0,3,10],\n",
    "        [0,1,9,16,100]\n",
    "    ),\n",
    "    (\n",
    "        [-7,-3,2,3,11],\n",
    "        [4,9,9,49,121],\n",
    "    )\n",
    "]"
   ]
  },
  {
   "cell_type": "code",
   "execution_count": 89,
   "metadata": {},
   "outputs": [
    {
     "name": "stdout",
     "output_type": "stream",
     "text": [
      "in_ = [[-4, -1, 0, 3, 10]]\n",
      "out = [0, 1, 9, 16, 100]\n",
      "exp = [0, 1, 9, 16, 100]\n",
      "--\n",
      "in_ = [[-7, -3, 2, 3, 11]]\n",
      "out = [4, 9, 9, 49, 121]\n",
      "exp = [4, 9, 9, 49, 121]\n",
      "--\n"
     ]
    }
   ],
   "source": [
    "class Solution:\n",
    "    def sortedSquares(self, nums: List[int]) -> List[int]:\n",
    "        # Contraints:\n",
    "        # `nums` is sorted in non-decreasing order\n",
    "        # 1 <= nums.length <= 104\n",
    "        # -104 <= nums[i] <= 104\n",
    "        # nums is sorted in non-decreasing order.\n",
    "        # return an array of the squares of each number sorted in non-decreasing order\n",
    "        neg_squares = []\n",
    "        pos_squares = []\n",
    "        for i, num in enumerate(nums):  # O(n)\n",
    "            (neg_squares if num < 0 else pos_squares).append(num**2)\n",
    "\n",
    "        result = []\n",
    "        neg_i = len(neg_squares) - 1\n",
    "        pos_i = 0\n",
    "        while neg_i >= 0 and pos_i < len(pos_squares):  # O(n)\n",
    "            if neg_squares[neg_i] < pos_squares[pos_i]:\n",
    "                result.append(neg_squares[neg_i])\n",
    "                neg_i -= 1\n",
    "            else:\n",
    "                result.append(pos_squares[pos_i])\n",
    "                pos_i += 1\n",
    "\n",
    "        while neg_i >= 0:\n",
    "            result.append(neg_squares[neg_i])\n",
    "            neg_i -= 1\n",
    "\n",
    "        while pos_i < len(pos_squares):\n",
    "            result.append(pos_squares[pos_i])\n",
    "            pos_i += 1\n",
    "           \n",
    "        return result\n",
    "\n",
    "####\n",
    "run_test_cases(test_cases, Solution().sortedSquares)"
   ]
  },
  {
   "cell_type": "code",
   "execution_count": 96,
   "metadata": {},
   "outputs": [
    {
     "name": "stdout",
     "output_type": "stream",
     "text": [
      "in_ = [[-4, -1, 0, 3, 10]]\n",
      "out = [0, 1, 9, 16, 100]\n",
      "exp = [0, 1, 9, 16, 100]\n",
      "--\n",
      "in_ = [[-7, -3, 2, 3, 11]]\n",
      "out = [4, 9, 9, 49, 121]\n",
      "exp = [4, 9, 9, 49, 121]\n",
      "--\n"
     ]
    }
   ],
   "source": [
    "# Of course, the O(N log N) solution:\n",
    "class Solution:\n",
    "    def sortedSquares(self, nums: List[int]) -> List[int]:\n",
    "        return sorted(num**2 for num in nums)\n",
    "    \n",
    "####\n",
    "run_test_cases(test_cases, Solution().sortedSquares)"
   ]
  },
  {
   "cell_type": "code",
   "execution_count": 98,
   "metadata": {},
   "outputs": [
    {
     "name": "stdout",
     "output_type": "stream",
     "text": [
      "in_ = [[-4, -1, 0, 3, 10]]\n",
      "out = [0, 1, 9, 16, 100]\n",
      "exp = [0, 1, 9, 16, 100]\n",
      "--\n",
      "in_ = [[-7, -3, 2, 3, 11]]\n",
      "out = [4, 9, 9, 49, 121]\n",
      "exp = [4, 9, 9, 49, 121]\n",
      "--\n"
     ]
    }
   ],
   "source": [
    "# Smarter, from the editorial solution\n",
    "class Solution:\n",
    "    def sortedSquares(self, nums: List[int]) -> List[int]:\n",
    "        n = len(nums)\n",
    "        left = 0\n",
    "        right = n - 1\n",
    "        result = [None] * n\n",
    "\n",
    "        for i in range(n - 1, -1, -1):\n",
    "            if abs(nums[left]) < abs(nums[right]):\n",
    "                square = nums[right]**2\n",
    "                right -= 1\n",
    "            else:\n",
    "                square = nums[left]**2\n",
    "                left += 1\n",
    "            result[i] = square\n",
    "\n",
    "        return result\n",
    "        \n",
    "    \n",
    "####\n",
    "run_test_cases(test_cases, Solution().sortedSquares)"
   ]
  },
  {
   "cell_type": "markdown",
   "metadata": {},
   "source": [
    "# Maximum Average Subarray I\n"
   ]
  },
  {
   "cell_type": "markdown",
   "metadata": {},
   "source": [
    "\n",
    "https://leetcode.com/problems/maximum-average-subarray-i/editorial/\n",
    "\n",
    "- You are given an integer array `nums` consisting of `n` elements, and an integer `k`.\n",
    "- Find a contiguous subarray whose length is equal to `k`\n",
    "  - that has the maximum average value and return this value.\n",
    "- Any answer with a calculation error less than 10-5 will be accepted.\n",
    "\n",
    "```\n",
    "Example 1:\n",
    "\n",
    "Input: nums = [1,12,-5,-6,50,3], k = 4\n",
    "Output: 12.75000\n",
    "Explanation: Maximum average is (12 - 5 - 6 + 50) / 4 = 51 / 4 = 12.75\n",
    "\n",
    "Example 2:\n",
    "\n",
    "Input: nums = [5], k = 1\n",
    "Output: 5.00000\n",
    "\n",
    "``` \n",
    "\n",
    "Constraints:\n",
    "```\n",
    "    n == nums.length\n",
    "    1 <= k <= n <= 105\n",
    "    -104 <= nums[i] <= 104\n",
    "\n",
    "```"
   ]
  },
  {
   "cell_type": "code",
   "execution_count": 113,
   "metadata": {},
   "outputs": [],
   "source": [
    "test_cases = [\n",
    "    (\n",
    "        dict(nums = [1,12,-5,-6,50,3], k = 4),\n",
    "        12.75000,\n",
    "    ),\n",
    "    (\n",
    "        dict(nums = [5], k = 1),\n",
    "        5.00000,\n",
    "    ),\n",
    "    (\n",
    "        dict(nums = [0,1,1,3,3], k = 4),\n",
    "        2.00000,\n",
    "    )\n",
    "]"
   ]
  },
  {
   "cell_type": "code",
   "execution_count": 117,
   "metadata": {},
   "outputs": [
    {
     "name": "stdout",
     "output_type": "stream",
     "text": [
      "in_ = [{'nums': [1, 12, -5, -6, 50, 3], 'k': 4}]\n",
      "out = 12.75\n",
      "exp = 12.75\n",
      "--\n",
      "in_ = [{'nums': [5], 'k': 1}]\n",
      "out = 5.0\n",
      "exp = 5.0\n",
      "--\n",
      "in_ = [{'nums': [0, 1, 1, 3, 3], 'k': 4}]\n",
      "out = 2.0\n",
      "exp = 2.0\n",
      "--\n"
     ]
    }
   ],
   "source": [
    "class Solution:\n",
    "    def findMaxAverage(self, nums: List[int], k: int) -> float:\n",
    "        # calculate the first k-window average\n",
    "        sum_ = 0\n",
    "        for i in range(k):\n",
    "            sum_ += nums[i]\n",
    "        \n",
    "        # slide removing one element from the left and adding one to the right\n",
    "        max_sum = sum_\n",
    "        for i in range(k, len(nums)):\n",
    "            sum_ = sum_ + nums[i] - nums[i - k]\n",
    "            max_sum = max(max_sum, sum_)\n",
    "        \n",
    "        return max_sum/k\n",
    "\n",
    "\n",
    "run_test_cases(test_cases, Solution().findMaxAverage)"
   ]
  },
  {
   "cell_type": "code",
   "execution_count": null,
   "metadata": {},
   "outputs": [],
   "source": []
  },
  {
   "cell_type": "code",
   "execution_count": null,
   "metadata": {},
   "outputs": [],
   "source": []
  },
  {
   "cell_type": "code",
   "execution_count": null,
   "metadata": {},
   "outputs": [],
   "source": []
  },
  {
   "cell_type": "code",
   "execution_count": null,
   "metadata": {},
   "outputs": [],
   "source": []
  },
  {
   "cell_type": "code",
   "execution_count": null,
   "metadata": {},
   "outputs": [],
   "source": []
  },
  {
   "cell_type": "code",
   "execution_count": null,
   "metadata": {},
   "outputs": [],
   "source": []
  }
 ],
 "metadata": {
  "kernelspec": {
   "display_name": "py311",
   "language": "python",
   "name": "python3"
  },
  "language_info": {
   "codemirror_mode": {
    "name": "ipython",
    "version": 3
   },
   "file_extension": ".py",
   "mimetype": "text/x-python",
   "name": "python",
   "nbconvert_exporter": "python",
   "pygments_lexer": "ipython3",
   "version": "3.11.3"
  },
  "orig_nbformat": 4
 },
 "nbformat": 4,
 "nbformat_minor": 2
}

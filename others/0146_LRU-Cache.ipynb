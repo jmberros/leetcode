{
 "cells": [
  {
   "cell_type": "code",
   "execution_count": null,
   "metadata": {},
   "outputs": [],
   "source": [
    "#\n",
    "# TODO\n",
    "# ! Implement it using a LinkedList\n",
    "# ! Implement it using OrderedDict\n",
    "# Explicitar los requerimientos:\n",
    "# put(key, value) in O(1)\n",
    "# get(key) in O(1)\n",
    "# space O(N)\n",
    "#"
   ]
  },
  {
   "cell_type": "code",
   "execution_count": null,
   "metadata": {},
   "outputs": [],
   "source": []
  },
  {
   "cell_type": "markdown",
   "metadata": {},
   "source": [
    "# Naive initial solution"
   ]
  },
  {
   "cell_type": "code",
   "execution_count": 37,
   "metadata": {},
   "outputs": [],
   "source": [
    "class CacheStore:\n",
    "    # TODO: docstring\n",
    "\n",
    "    def __init__(self):\n",
    "        self._store = {}  # ? Implement something better than a dict?\n",
    "\n",
    "    @property\n",
    "    def size(self) -> int:\n",
    "        return len(self._store)\n",
    "\n",
    "    def contains(self, key: int) -> bool:\n",
    "        return key in self._store\n",
    "\n",
    "    def retrieve(self, key: int) -> int:\n",
    "        return self._store[key]\n",
    "\n",
    "    def set(self, key: int, value: int):\n",
    "        self._store[key] = value\n",
    "\n",
    "    def remove(self, key: int):\n",
    "        del self._store[key]\n",
    "\n",
    "\n",
    "class LRUCache:\n",
    "    # TODO: Add docstring with some usage examples\n",
    "\n",
    "    def __init__(self, capacity: int):\n",
    "        self.capacity = capacity\n",
    "        self.store = CacheStore()        \n",
    "        self._counter = 0\n",
    "        # ^ This is an incremental value to keep track of the most recently used\n",
    "        # item in the storage. Everytime a key is set or accessed, their rank\n",
    "        # is updated with a new value from this counter.\n",
    "        \n",
    "        self._key2rank = {}  # key -> rank\n",
    "        self._rank2key = {}  # rank -> key\n",
    "        self._min_rank = float(\"inf\")\n",
    "\n",
    "        # A lower rank means that a key was accessed further in the past\n",
    "\n",
    "    def is_full(self) -> bool:\n",
    "        return self.store.size == self.capacity\n",
    "\n",
    "    def get(self, key: int) -> int:\n",
    "        if not self.store.contains(key):\n",
    "            return -1\n",
    "\n",
    "        self.update_rank(key)\n",
    "        value = self.store.retrieve(key)\n",
    "        return value\n",
    "\n",
    "    def put(self, key: int, value: int) -> None:\n",
    "        if self.is_full():\n",
    "            self.delete_least_recently_used_key()\n",
    "        self.store.set(key, value)\n",
    "        self.update_rank(key)\n",
    "\n",
    "    def increment_counter(self) -> int:\n",
    "        self._counter += 1\n",
    "        return self._counter\n",
    "\n",
    "    def update_rank(self, key: int) -> None:\n",
    "        latest_rank = self.increment_counter()\n",
    "        self._key2rank[key] = latest_rank\n",
    "        self._rank2key[latest_rank] = key\n",
    "\n",
    "    def delete_least_recently_used_key(self):\n",
    "        # ! Warning: this runs in O(N) where N is the size of the cache\n",
    "        lru_key = min(self._rank, key=lambda k: self._rank[k])\n",
    "        self.delete(lru_key)\n",
    "\n",
    "    def delete(self, key: int) -> None:\n",
    "        self.store.remove(key)\n",
    "        del self._rank[key]\n",
    "\n",
    "# TODOs:\n",
    "# - Test suite for this class\n",
    "# - Proper docstrings for all methods and use cases of the class\n",
    "# - Think if there's something better than a dictionary as internal storage\n",
    "\n",
    "\n",
    "lRUCache = LRUCache(2)\n",
    "lRUCache.put(1, 1)\n",
    "lRUCache.put(2, 2)\n",
    "assert lRUCache.get(1) == 1\n",
    "lRUCache.put(3, 3)\n",
    "assert lRUCache.get(2) == -1\n",
    "lRUCache.put(4, 4) # LRU key was 1, evicts key 1, cache is {4=4, 3=3}\n",
    "assert lRUCache.get(1) == -1\n",
    "assert lRUCache.get(3) == 3\n",
    "assert lRUCache.get(4) == 4"
   ]
  },
  {
   "cell_type": "code",
   "execution_count": null,
   "metadata": {},
   "outputs": [],
   "source": []
  },
  {
   "cell_type": "code",
   "execution_count": null,
   "metadata": {},
   "outputs": [],
   "source": []
  },
  {
   "cell_type": "code",
   "execution_count": null,
   "metadata": {},
   "outputs": [],
   "source": []
  },
  {
   "cell_type": "code",
   "execution_count": null,
   "metadata": {},
   "outputs": [],
   "source": []
  },
  {
   "cell_type": "code",
   "execution_count": null,
   "metadata": {},
   "outputs": [],
   "source": []
  },
  {
   "cell_type": "code",
   "execution_count": null,
   "metadata": {},
   "outputs": [],
   "source": []
  },
  {
   "cell_type": "code",
   "execution_count": null,
   "metadata": {},
   "outputs": [],
   "source": []
  },
  {
   "cell_type": "code",
   "execution_count": null,
   "metadata": {},
   "outputs": [],
   "source": []
  },
  {
   "cell_type": "code",
   "execution_count": null,
   "metadata": {},
   "outputs": [],
   "source": []
  }
 ],
 "metadata": {
  "kernelspec": {
   "display_name": "py311",
   "language": "python",
   "name": "python3"
  },
  "language_info": {
   "codemirror_mode": {
    "name": "ipython",
    "version": 3
   },
   "file_extension": ".py",
   "mimetype": "text/x-python",
   "name": "python",
   "nbconvert_exporter": "python",
   "pygments_lexer": "ipython3",
   "version": "3.11.3"
  },
  "orig_nbformat": 4
 },
 "nbformat": 4,
 "nbformat_minor": 2
}
